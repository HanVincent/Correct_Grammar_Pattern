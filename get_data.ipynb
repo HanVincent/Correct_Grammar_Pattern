{
 "cells": [
  {
   "cell_type": "code",
   "execution_count": 1,
   "metadata": {},
   "outputs": [],
   "source": [
    "def to_after_token(token):\n",
    "    token = token.replace('\\u3000', ' ')\n",
    "    if token == ' ': return ''\n",
    "\n",
    "    if token.endswith('-]'):\n",
    "        return None\n",
    "    elif token.endswith('+}'):\n",
    "        return token[token.rfind('>>')+2:-2]  if token.startswith('[-') else token[2:-2]\n",
    "    else:\n",
    "        return token\n",
    "        \n",
    "def to_after(tokens):\n",
    "    tokens = [e for token in map(to_after_token, tokens) if token for e in token.split(' ')]\n",
    "    return tokens\n",
    "\n",
    "def to_before_token(token):\n",
    "    token = token.replace('\\u3000', ' ')\n",
    "    if token == ' ': return ''\n",
    "\n",
    "    if token.endswith('-]'):\n",
    "        return token[2:-2]\n",
    "    elif token.endswith('+}'):\n",
    "        return token[2:token.rfind('>>')]  if token.startswith('[-') else None\n",
    "    else:\n",
    "        return token\n",
    "        \n",
    "def to_before(tokens):\n",
    "    return [ token for token in map(to_before_token, tokens) if token ]\n"
   ]
  },
  {
   "cell_type": "code",
   "execution_count": null,
   "metadata": {},
   "outputs": [],
   "source": []
  },
  {
   "cell_type": "code",
   "execution_count": null,
   "metadata": {},
   "outputs": [],
   "source": [
    "if __name__ == '__main__':\n",
    "    loc = '../dataset/efcamp/'\n",
    "    fs = open(loc + 'ef.sent.wrong.right.txt', 'w', encoding='utf8')\n",
    "    for line in open(loc + 'ef.diff.simplize.despace.txt', 'r', encoding='utf8'):\n",
    "        tokens = line.strip().split(' ')\n",
    "        aft_tokens = to_after(tokens)\n",
    "        bef_tokens = to_before(tokens)\n",
    "        print(\"{}\\t{}\\t{}\".format(' '.join(tokens), ' '.join(aft_tokens), ' '.join(bef_tokens)), file=fs)\n",
    "\n",
    "    fs.close()"
   ]
  }
 ],
 "metadata": {
  "kernelspec": {
   "display_name": "Python 3",
   "language": "python",
   "name": "python3"
  },
  "language_info": {
   "codemirror_mode": {
    "name": "ipython",
    "version": 3
   },
   "file_extension": ".py",
   "mimetype": "text/x-python",
   "name": "python",
   "nbconvert_exporter": "python",
   "pygments_lexer": "ipython3",
   "version": "3.5.2"
  }
 },
 "nbformat": 4,
 "nbformat_minor": 2
}
