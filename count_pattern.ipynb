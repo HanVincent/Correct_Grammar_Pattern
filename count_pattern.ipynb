{
 "cells": [
  {
   "cell_type": "code",
   "execution_count": 2,
   "metadata": {},
   "outputs": [],
   "source": [
    "from get_data import *\n",
    "from pgrule import mapRest, mapRW\n",
    "from collections import Counter, defaultdict\n",
    "from pprint import pprint\n",
    "from operator import itemgetter\n",
    "from spacy.tokens import Doc\n",
    "import nltk\n",
    "import numpy as np\n",
    "import pickle\n",
    "import spacy\n",
    "import explacy # https://github.com/tylerneylon/explacy\n",
    "# explacy.print_parse_info(nlp, line)"
   ]
  },
  {
   "cell_type": "code",
   "execution_count": 3,
   "metadata": {},
   "outputs": [],
   "source": [
    "nlp = spacy.load('en_core_web_lg') # ('en')"
   ]
  },
  {
   "cell_type": "markdown",
   "metadata": {},
   "source": [
    "## Parse BNC 所有句子，再取出有 discuss\n",
    "* read all lines\n",
    "* strip() and lower()\n",
    "* filter out target sentences\n",
    "* ** Use list() to keep filter generator **"
   ]
  },
  {
   "cell_type": "code",
   "execution_count": 4,
   "metadata": {},
   "outputs": [],
   "source": [
    "# 測試 load pickle\n",
    "# # Load the data\n",
    "# with open(\"../dataset/bnc_processed.pickle\", \"rb\") as handle:\n",
    "#     doc_bytes, vocab_bytes = pickle.load(handle)\n",
    "    \n",
    "# nlp.vocab.from_bytes(vocab_bytes)\n",
    "# bnc_docs = [Doc(nlp.vocab).from_bytes(b) for b in doc_bytes]"
   ]
  },
  {
   "cell_type": "code",
   "execution_count": 5,
   "metadata": {},
   "outputs": [],
   "source": [
    "TARGET_WORD = 'discuss'"
   ]
  },
  {
   "cell_type": "code",
   "execution_count": 6,
   "metadata": {},
   "outputs": [],
   "source": [
    "# bnc_remains = filter(lambda line: any([tk.lemma_ == TARGET_WORD for tk in line]), bnc_all)"
   ]
  },
  {
   "cell_type": "code",
   "execution_count": 7,
   "metadata": {},
   "outputs": [],
   "source": [
    "def clean_data(file, reserved=None):\n",
    "    lines = map(lambda line: line.strip().lower(), open(file, 'r', encoding='utf8'))\n",
    "    remains = filter(lambda line: reserved in line, lines) if reserved else lines\n",
    "    return list(remains)\n",
    "\n",
    "bnc_temp = clean_data('../dataset/bnc.txt', TARGET_WORD)\n",
    "bnc_remains = list(map(lambda line: nlp(line), bnc_temp))"
   ]
  },
  {
   "cell_type": "markdown",
   "metadata": {},
   "source": [
    "## 從 EF 中取得有 discuss 的句子，並且 parse"
   ]
  },
  {
   "cell_type": "code",
   "execution_count": 8,
   "metadata": {},
   "outputs": [],
   "source": [
    "# fs = open('../dataset/efcamp/ef.diff.simplize.despace.txt', 'r', encoding='utf8')\n",
    "# ef_all = []\n",
    "\n",
    "ef_temp = clean_data('../dataset/efcamp/ef.diff.simplize.despace.txt', 'discuss')\n",
    "ef_remains = []\n",
    "for index, line in enumerate(ef_temp):\n",
    "    tokens = line.split(' ')\n",
    "    \n",
    "    aft_sent = nlp(' '.join(to_after(tokens)))\n",
    "    bef_sent = nlp(' '.join(to_before(tokens)))\n",
    "    has_edit = any([tk[:2] in ['[-', '{+'] and TARGET_WORD in tokens[i-1] \n",
    "                    for i, tk in enumerate(tokens)]) \n",
    "    \n",
    "    ef_remains.append({\n",
    "        'origin': line,\n",
    "        'bef_sent': bef_sent,\n",
    "        'aft_sent': aft_sent, \n",
    "        'has_edit': has_edit\n",
    "    })"
   ]
  },
  {
   "cell_type": "markdown",
   "metadata": {},
   "source": [
    "## 產生測資"
   ]
  },
  {
   "cell_type": "code",
   "execution_count": 9,
   "metadata": {},
   "outputs": [],
   "source": [
    "test_data = list(filter(lambda x: x['has_edit'], ef_remains))\n",
    "test_data = [(el['bef_sent'], False) if i < 250 else (el['aft_sent'], True) for i, el in enumerate(test_data[:500])]"
   ]
  },
  {
   "cell_type": "markdown",
   "metadata": {},
   "source": [
    "## Count bigram and trigram \n",
    "* **NO** stemming or other processsing\n",
    "* split only by **space**"
   ]
  },
  {
   "cell_type": "code",
   "execution_count": 64,
   "metadata": {},
   "outputs": [],
   "source": [
    "def is_past_passive(main_verb):\n",
    "    if main_verb.tag_ != 'VBN':\n",
    "        return False\n",
    "    return any([child.lemma_ == 'be' for child in main_verb.children])\n",
    "\n",
    "def pos_mapping(token):\n",
    "    # temp \n",
    "    if token.lemma_ == TARGET_WORD:  \n",
    "        if token.tag_ == 'VBN':          return 'VBN'\n",
    "        if token.tag_.startswith('VB'):  return 'V'\n",
    "\n",
    "    if token.tag_ == 'IN':           return token.text\n",
    "    \n",
    "    if token.tag_ in mapRest:        return mapRest[token.tag_]\n",
    "    if token.tag_[:2] in mapRest:    return mapRest[token.tag_[:2]]\n",
    "    if token.tag_[0] == 'W' and token.lemma_ in mapRW: return mapRW[token.lemma_] # 多加 why, which, where\n",
    "    \n",
    "    # if token.tag_ == 'VBN':          return 'VBN'\n",
    "    # if token.tag_.startswith('VB'):  return 'V'\n",
    "    if token.tag_.startswith('NN') or token.tag_ == 'DT': return 'n'\n",
    "    return token.tag_\n",
    "\n",
    "def is_noun_chunk(token):\n",
    "    for nc in token.doc.noun_chunks:\n",
    "        if token.i in range(nc.start, nc.end):\n",
    "            return True, nc.end\n",
    "    return False, token.i + 1\n",
    "\n",
    "\n",
    "def get_ngram(token):\n",
    "    line = token.doc\n",
    "    return ' '.join([tk.text for tk in line[token.i : token.i + WINDOW_SIZE]]) # discuss _ _\n",
    "    \n",
    "\n",
    "def get_pattern(token):\n",
    "    line = token.doc\n",
    "    \n",
    "    ptns, start_loc = [], token.i\n",
    "    for i in range(WINDOW_SIZE):\n",
    "        if start_loc < len(line):\n",
    "            is_NC, next_start = is_noun_chunk(line[start_loc])\n",
    "            \n",
    "            ### 遇到標點符號先終止\n",
    "            if line[start_loc].is_punct:\n",
    "                break\n",
    "            if line[start_loc].is_quote:\n",
    "                start_loc += 1\n",
    "                \n",
    "            ptns.append('n' if is_NC else pos_mapping(line[start_loc]))\n",
    "            start_loc = next_start\n",
    "            \n",
    "    return ' '.join(ptns)\n",
    "\n",
    "def all_info(parsed_sents):\n",
    "    # TODO: refactor to class\n",
    "    info = {\n",
    "        'ngrams': Counter(),\n",
    "        'patterns': defaultdict(Counter),\n",
    "        'sents': defaultdict(lambda: [])\n",
    "    }\n",
    "    for line in parsed_sents:\n",
    "        for token in line: \n",
    "            if token.lemma_ == TARGET_WORD:\n",
    "                ngram = get_ngram(token)\n",
    "                ptn = get_pattern(token)\n",
    "\n",
    "                info['ngrams'][ngram] += 1\n",
    "                info['patterns'][is_past_passive(token)][ptn] += 1\n",
    "                info['sents'][ptn].append(line.text)\n",
    "    return info"
   ]
  },
  {
   "cell_type": "code",
   "execution_count": 65,
   "metadata": {},
   "outputs": [],
   "source": [
    "def get_high_freq(counts):\n",
    "    values = list(counts.values())\n",
    "    total, avg, std = np.sum(values), np.mean(values), np.std(values)\n",
    "    print(\"Total: {}, Avg: {}, Std: {}\".format(total, avg, std))\n",
    "\n",
    "    return dict([(ngram, count) for ngram, count in counts.items() \n",
    "                 if count > avg])\n",
    "\n",
    "def high(info):\n",
    "    return {\n",
    "        'ngrams': get_high_freq(info['ngrams']),\n",
    "        'patterns': {\n",
    "            True: get_high_freq(info['patterns'][True]),\n",
    "            False: get_high_freq(info['patterns'][False])\n",
    "        }\n",
    "    }\n",
    "\n",
    "def sort_dict(counts):\n",
    "    return sorted(counts.items(), key=itemgetter(1), reverse=True)"
   ]
  },
  {
   "cell_type": "markdown",
   "metadata": {},
   "source": [
    "## 以 BNC 資料統計出正確 patterns"
   ]
  },
  {
   "cell_type": "code",
   "execution_count": 66,
   "metadata": {},
   "outputs": [
    {
     "name": "stdout",
     "output_type": "stream",
     "text": [
      "Total: 10754, Avg: 1.8332765086941698, Std: 7.7271152219422286\n",
      "Total: 2606, Avg: 15.604790419161677, Std: 71.52655033064005\n",
      "Total: 8148, Avg: 21.442105263157895, Std: 104.3580340931085\n"
     ]
    }
   ],
   "source": [
    "WINDOW_SIZE = 3\n",
    "bnc = all_info(bnc_remains)\n",
    "high_bnc = high(bnc)"
   ]
  },
  {
   "cell_type": "code",
   "execution_count": 67,
   "metadata": {},
   "outputs": [
    {
     "data": {
      "text/plain": [
       "[('V n', 1298),\n",
       " ('V n of', 1210),\n",
       " ('V n with', 615),\n",
       " ('V n CC', 422),\n",
       " ('V n in', 336),\n",
       " ('V', 318),\n",
       " ('V n adv', 271),\n",
       " ('V n n', 253),\n",
       " ('V with n', 222),\n",
       " ('V n for', 189),\n",
       " ('VBN in n', 152),\n",
       " ('VBN', 148),\n",
       " ('VBN adv', 143),\n",
       " ('V wh n', 104),\n",
       " ('VBN n of', 84),\n",
       " ('V n at', 83),\n",
       " ('V n on', 83),\n",
       " ('V n v-ed', 82),\n",
       " ('VBN n with', 75),\n",
       " ('V n TO', 71),\n",
       " ('V n that', 68),\n",
       " ('V n wh', 67),\n",
       " ('V adv', 67),\n",
       " ('V n to', 67),\n",
       " ('V in n', 65),\n",
       " ('V CC v', 60),\n",
       " ('V n adj', 56),\n",
       " ('VBN by n', 50),\n",
       " ('V n v', 49),\n",
       " ('VBN n', 47),\n",
       " ('V n ing', 44),\n",
       " ('VBN with n', 42),\n",
       " ('V n between', 39),\n",
       " ('V n from', 35),\n",
       " ('V n as', 32),\n",
       " ('V ing n', 32),\n",
       " ('V n MD', 30),\n",
       " ('V adv n', 28),\n",
       " ('V whether n', 27),\n",
       " ('VBN n CC', 26),\n",
       " ('V n CD', 25),\n",
       " ('VBN above', 22),\n",
       " ('V wh TO', 22)]"
      ]
     },
     "execution_count": 67,
     "metadata": {},
     "output_type": "execute_result"
    }
   ],
   "source": [
    "sort_dict(high_bnc['patterns'][False]) # 這裡的 VBN 為完成式"
   ]
  },
  {
   "cell_type": "code",
   "execution_count": 68,
   "metadata": {},
   "outputs": [
    {
     "data": {
      "text/plain": [
       "['the artist critic in this case deliberately the historical context of the pictures she was discussing .',\n",
       " 'in discussing , he treated him the most versatile artist of a , whose other members were marcantonio raimondi and lucas van leyden .',\n",
       " 'reality does not discuss , it simply is .',\n",
       " 'however , i believe that the vast majority of woodturners in the uk are amateurs like myself , and it is the contrast between our approach to and that of the which i wish to discuss .',\n",
       " \"it has long been common practice to give students passages of poetry or prose , often but not always anonymous , to analyse , discuss , and respond to , in the manner of richards 's original undertaking .\",\n",
       " 'it is here papers are generated and read and discussed , and where the academic superstars go their paces and inspire their dedicated students .',\n",
       " 'on saturday ec foreign ministers assemble a chateau near chartres for an informal weekend during which they will discuss , among other things , the co-ordination of community policy towards eastern europe .',\n",
       " 'so neither television nor the parties closer to the electorate on unemployment : they moved away from the electorate , increasingly avoiding an the public wanted to discuss .',\n",
       " 'by contrast , the failure to introduce new benefits , payments or services is a much blunter grievance : political opponents have something hypothetical to discuss ; individual electors do not easily identify themselves with the deprived .',\n",
       " 'for much of the period he discusses , it was far from easy to prove whether a couple was legally married at all .',\n",
       " 'lewis does not set out to make himself cleverer than the reader , stili less cleverer than the authors whom he is discussing .',\n",
       " 'she had also known that charles would have to see his mother just as regularly after they were married as before : there were matters of they had to discuss , and discuss in private .',\n",
       " 'baseball fans point out that jackson bats and instead of the other way round and was anyway more villain than hero , a theory the film never discusses .',\n",
       " 'many party officials oppose the ideas , such as privatisation and greater powers for the republics , that a round table would be likely to discuss .',\n",
       " 'first , confront the one thing everybody avoids discussing .',\n",
       " 'he began by distinguishing between destructive phenomena , such as we have been discussing , and the destinies of individuals : `` divine providence & hellip ; under the twofold aspect of general law and special interposition . ``',\n",
       " \"no , nothing ; or else the memory of a meeting , `` but i ca n't recall what the outcome was or what we were discussing . ``\",\n",
       " 'one issue which the people did discuss , and which did have military implications , was relations with egypt .',\n",
       " 'indeed it had and the minister stood at the very centre of the world we are discussing .',\n",
       " \"discussing - dissecting rather - paul 's my history , angela carter exposes another , international stereotype .\",\n",
       " 'another subject that deeply to many of the british , and which most of our politicians refuse to discuss , is race .',\n",
       " \"the strategy meetings as a permanent nightly fixture in mr ashdown 's eighth floor suite in the royal horseguards hotel were often cut because there was nothing to discuss .\",\n",
       " 'he was an inspired teacher , his lectures notable for their outstanding clarity and for his frequent excursions into the historical background of the techniques he was discussing .',\n",
       " 'i do not believe that it is entirely their fault , because they almost certainly have producers and controllers who tell them what they may or may not discuss .',\n",
       " 'this further seemed to give encouragement in practice to the `` go-into-groups-discuss-an-important-issue-and-find-a-dramatic-statement-for-us-to-discuss `` sequence .',\n",
       " \"`` come this way , there 's much to discuss . ``\",\n",
       " 'the words `` more contentiously `` are an admission that the whole case for lesbianism is not provable ; indeed , with respect to the poem she is discussing , neither nor mira woos any discernible way .',\n",
       " \"`` i did n't discuss .\",\n",
       " 'professor alastair ulph ( economics ) was an ulsterman whose accent was as difficult to penetrate some of the mathematical equations he discussed .',\n",
       " 'the nature of authority is explained by the combination of the three theses we are discussing .',\n",
       " '`` what is it that you wish to discuss ? `` he asked .',\n",
       " 'visnews has sent me a 16-page fax on what they have ; please tomorrow to discuss .',\n",
       " 'please do not hesitate to contact me if there is anything else you need to discuss .',\n",
       " 'i maintain that the public loves to look at , and discuss , photos of the royal family .',\n",
       " 'friends can be a great help for this , and you can ask them to come with items to read to the patient , or ideas to discuss .',\n",
       " 'i think the stronger point , however , is that the arguments to the contrary revolve questions of voluntary euthanasia as opposed to the situation i am discussing .',\n",
       " 'and the two of them would discuss , with some enthusiasm , donald could have acquired this information .',\n",
       " 'specific techniques that each require your attention and practice include : ; discussing ; ; summarizing ; delegating ; and observing .',\n",
       " 'to do this you will be involved in meeting staff , attending meetings , talking to people on the phone , , discussing , and persuading .',\n",
       " \"however , if there is anything else you wish to discuss , please do n't hesitate to call mark elliott or one of his colleagues at natwest insurance services :\",\n",
       " 'we were created for relationship and most of our learning happens a context of relationship , whether through talking , , discussing , telling , , or through , watching , considering , receiving , taking in .',\n",
       " 'so far they have had four cell meetings with time to share their situations , discuss , pray , and relax , together .',\n",
       " 'it is possible to obtain aromatherapy oils but , before we discuss , let us take a look at the main extraction methods in operation today .',\n",
       " 'how often is hong kong discussed ?',\n",
       " 'nevertheless a carefully designed receptionist role that would take these misgivings into account , may be worth discussing .',\n",
       " 'yet in discussing , it is not the individual who is crucial ; it is the interpersonal relationship .',\n",
       " 'as clarke and morrison discuss , their data are comparable with other studies in fiji : such losses were known to be occurring more than 20 years ago but went unheeded in the wake of development .',\n",
       " ', as k f s ( 1987 ) discusses , has been a component of agricultural systems the latter began to develop ( section 3.3 ) .',\n",
       " 'as tudge ( 1988 ) discusses , the facility of plants to regenerate from a few cells is related to the characteristic known as totipotency .',\n",
       " 'as lindow ( 1985 ) , the creator of this virus , discusses , it has the potential to save millions of dollars which are regularly lost in the usa as a result of frost to crops .',\n",
       " 'nurses tend to control most patient/nurse conversations , and therefore may ignore what the to discuss .',\n",
       " '`` de must be wondering what we are discussing .',\n",
       " 'discuss . `` )',\n",
       " 'not a thrilling subject to discuss , but it is the most practical method .',\n",
       " 'half the chapters are written by people at first hand with the initiatives that they discuss .',\n",
       " 'but this is what i am here to discuss .',\n",
       " 'there was nothing of that nicholas wished to discuss , so he answered only the question .',\n",
       " \"there 's something we 've got to discuss .\",\n",
       " '`` what did you discuss ? ,',\n",
       " '`` what did you want to discuss ? ``',\n",
       " '( referring to whatever we have been discussing : hooliganism ; child abuse ; industrial unrest ; pollution - whatever has been in the news & hellip ; )',\n",
       " \"there 's the `` ok-let's-discuss-this-together `` sort and the `` don't-answer-back-i'm-in-charge-here `` sort .\",\n",
       " 'the new system some staffing reductions - voluntary redundancies ; it was probably them that edouard de chavigny wanted to discuss , or some details of the system .',\n",
       " 'in terms of the doubt we are discussing , the long-term habit of faith is particularly necessary because the constant drive of our fallen natures is toward idolatry .',\n",
       " '`` no , `` she answered , `` but there is something we must discuss . ``',\n",
       " \"`` treble `` are garbage ; they 're just not worth discussing .\",\n",
       " 'this can be kindly , but your hearing loss must not mean that you discuss matters that you would prefer not to discuss , solely because it gives an opportunity for conversation .',\n",
       " \"miss b : ( thinks , `` inquisitive old so-and-so `` - but says with charming smile : ) of course i do n't mind , but that 's something i do n't discuss .\",\n",
       " 'i was in a caf & eacute ; in beaconsfield waiting for a bus , and at the next a man and a woman were passionately discussing .',\n",
       " 'i figure we should let them hear what happened and discuss - ``',\n",
       " 'last week julian discussed , his eye having been caught by an article in family circle headlined `` i found my husband wearing my nightdress `` .',\n",
       " 'i felt he maintained a distance and because of i found him more difficult to approach than dalglish if there was anything i needed to discuss .',\n",
       " 'in addition to `` heralding `` the gospel the new testament discussing ( acts 17 : 2 , 17 ; 18 : 4 , 19 ; 19 : 8 ) and arguing and ( 18 : 28 ) .',\n",
       " 'argue , discuss , defend and justify a point of view ;',\n",
       " 'have you learnt to lobby or discuss/implement plans ?',\n",
       " 'for example , or journalists who had given thought to the matter told me within the provisions of the declaration and its main socialist objectives there was a wide range of issues concerning implementation to discuss .',\n",
       " 'the word dialectic comes from the root to debate or discuss .',\n",
       " 'did this special branch officer expect him to discuss & hellip ;',\n",
       " 'this can be achieved by regularly outlining why we feel that it is an important area to discuss .',\n",
       " 'the group often opens areas that many individuals would normally not discuss .',\n",
       " 'they tend to deny that older people may have issues and agendas that they may wish to discuss , and they ignore the fact that many older people have the ability and to organize matters for themselves .',\n",
       " 'sex may not be a topic which the individual wants to discuss , and this clearly has to be respected .',\n",
       " \"`` there 's another matter i 'd like to discuss , if i may ? ``\",\n",
       " \"again , analysis of the situation can help : `` we 've got away from what i wanted to discuss - can we go back to it ? ``\",\n",
       " 'although many people possess the psychotic traits we have been discussing , only a few will show the signs of even a borderline disorder and still fewer will develop a full-blown psychotic illness .',\n",
       " 'yet the queen knew perfectly well what sarah , wife of her second son andrew , really wanted to discuss .',\n",
       " \"from time to time , patrick would come out with a forthright remark about something we were n't actually discussing .\",\n",
       " 'we may lack confidence when it comes to discussing , or having sex .',\n",
       " 'you may want your partner to know that there is something important you want to discuss , so that you can both make time in advance .',\n",
       " 'you said there were two things we needed to discuss . ``',\n",
       " \"we discuss , instead , literary genius and daddy william burroughs ' involvement with ministry .\",\n",
       " \"davidson was discussing , well , let 's say athleticism , with the overweight but useful connacht second aidan higgins .\",\n",
       " 'for understandable reasons , salerooms are reluctant to discuss , or even let their employees discuss , individual salaries .',\n",
       " 'for understandable reasons , salerooms are reluctant to discuss , or even let their employees discuss , individual salaries .',\n",
       " 'but all these things that we have been discussing - rediscoveries in the history of art , in taste , etc - all this makes me wonder .',\n",
       " 'the motivation issue is not an easy one to discuss , since it is an item which is seldom adequately defined .',\n",
       " 'the aim is to help students develop both the linguistic skills and the critical awareness they need in order to read for pleasure , to discuss , and to write about literature .',\n",
       " 'doing , experiencing , discussing , taking part , sharing & hellip ; the hopeful parent would surely welcome schooldays for their children based upon a programme in which these elements enjoy a central part .',\n",
       " 'the feature of human culture and human activities that gives rise to the representation problem is above all communities embody norms , and it is this notion that i shall principally discuss .',\n",
       " '`` and what were you discussing ? ``',\n",
       " 'although recognizing the problems each has with the other , he discusses , like roger bullock , how research can help with the task of enquiry , `` a central task in social work and social care `` .',\n",
       " \"i do n't talk to alan much as i 'd like to because he does n't respond , does n't discuss .\",\n",
       " 'once a week they met together to discuss , with one of the periti , then under debate in the basilica .',\n",
       " 'he did not comment upon the subjects the fathers were to discuss .',\n",
       " 'next , as ever , told reuters that this is just one of a number of licensing deals it is discussing .',\n",
       " 'they and others who employ what i term the `` autonomous `` model of literacy appear , then , to believe that this model insulates them from the arguments i have been discussing .',\n",
       " \"hackney ssd 's support group for young females tackles health , sexuality and anything else the clients want to discuss .\",\n",
       " 'by using gestures only to illustrate speech - it is distracting to discuss , say , strategy with someone who is engaged in continuous grooming .',\n",
       " 'the situation will be different with the genetic ailments of the mind , which i shall now discuss .',\n",
       " 'children who can discuss , opinions and make deductions , find information and apply it where necessary . ``',\n",
       " 'in discussing ( below ) given by the women in my sample to a test of self-attitudes , i shall present some evidence in favour of this interpretation .',\n",
       " 'yet even when dealing with individual commissions , is selective about what he discusses .',\n",
       " 'john sutherland includes disaster tales among the types of best-sellers which he discusses , for this reason :',\n",
       " 'philosophers of all kinds continually look to thinkers from previous times for inspiration and argument , and schools can often be distinguished by which predecessors they read and discuss .',\n",
       " 'secondly , the central problem which we want to discuss , being common to all social sciences , is not avoided by states from their position as principal actors .',\n",
       " \"i do n't know what they discussed . ``\",\n",
       " 'there are , however , different levels of publication that could be developed which would eventually help more to become available at the professional level that we have been discussing .',\n",
       " \"`` there is n't very much to discuss , is there ? ``\",\n",
       " 'when the quote is agreed and the production confirmed by letter , meetings take place between the production company , the producer and the creative team to discuss , location , set designs and music .',\n",
       " '`` i want you to find out where he went , who was there and what they discussed . ``',\n",
       " '( her assassination in nicaragua in april 1983 has had serious political repercussions which it is beyond the compass of this book to discuss . )',\n",
       " 'where overlaps permit the majority of staff to be on duty at the same time , the opportunity should be taken to discuss , review and resolve issues relating to patient care and other matters .',\n",
       " '( remember these are `` in-principle `` thought experiments , not practical procedures , that we are discussing ! )',\n",
       " 'it goes on to discuss , in rather general terms , regional , and network possibilities .',\n",
       " 'one can go on to a third group that i did not discuss , `` all-ischaemic events `` , including non-fatal and fatal reinfarction ; it includes the development of unstable angina , and revascularisation procedures .',\n",
       " 'later in the chapter i provide a framework indicating how the form of regulation we shall discuss - sometimes called `` economic regulation `` - relates to certain other types .',\n",
       " 'the other major point , which we are not yet in a position to discuss , relates to the state of competition and potential competition in the industry .',\n",
       " 'questions you would like the group to discuss .',\n",
       " 'indirect questions often take the form of a provocative quotation you are asked to discuss .',\n",
       " '9 make the decision to entertain a rational one and ensure that you have something useful to impart or to discuss .',\n",
       " \"i know i just i do n't know why it 's too much coming her to discuss\",\n",
       " \"will you be able to share papers because er erm and therefore those papers which we 're about to discuss , you had your admissions if you brought your papers with you yes ?\",\n",
       " 'and should be adopted now unless there are things , further things you wish to discuss .',\n",
       " 'children can also be statements to discuss .',\n",
       " 'was the kind of lady who understood far more than she was prepared to discuss .',\n",
       " 'indeed , he may wish to discuss , not `` rules `` but regularities , simply because his data constantly exemplifies non-categorial phenomena .',\n",
       " 'quite often , people explicitly discuss , or try to clarify the illocutionary and perlocutionary force , to formulate the upshot of what is said .',\n",
       " 'this is a collection of papers from an early seminar to discuss , and to try to define and explain , deindustrialization .',\n",
       " \"physics is physics , is n't it , you ca n't really discuss & hellip ; not in the same you can discuss a or something , you ca n't really discuss a formula .\",\n",
       " 'four of the people we shall discuss , , jobs , iacocca and carlzon , are business leaders widely recognized and for their visionary abilities .',\n",
       " '`` what do you want to discuss ? ``',\n",
       " 'when she returned to the drawing-room , she found that charles , and esther were discussing , with much animation , the economy .',\n",
       " 'and this , as we now proceed to discuss , is the crucial interaction which we see as the to understanding the penal crisis and responses to it .',\n",
       " \"however , it is in his treatment of ideology that 's legacy has been most pervasive and where he is the unmistakable precursor of all the marxist and post-marxist theorists we now proceed to discuss .\",\n",
       " '`` initially to discuss & hellip ; ``',\n",
       " \"17 , in which wives became contractually bound in support of their husband 's debts but did not provide any security their property , stand a little aloof from the principles i have been discussing .\",\n",
       " 'quite why food and diet have become of such interest in recent years is for the social historian to discuss , but there is no doubt about the popularity of culinary herbs .',\n",
       " \"and then we can pull in or have a stop , probably at the delivery if it 's a delivery involved , we can have a little chat about any areas which we can discuss .\",\n",
       " 'anything you want to argue with er and discuss , please do .',\n",
       " 'the girls had so much to discuss .',\n",
       " 'it is distinguishable from power in the sense just discussed ( though the two forms may exist side by side ) in that it does not rely any idea of direct control others or coercion .',\n",
       " 'as chapter 3 will discuss , the legal duties on management are directed towards shareholder .',\n",
       " \"as a matter of fact , that 's what i came into your office to discuss , you gorgeous mantrap . ``\",\n",
       " 'b a letter accepting , but he misdirects it and in consequence it is a week in being delivered to a. meanwhile a has sold phineas to c. discuss .',\n",
       " \"if you are asked to discuss , say , nordenfelt 's case , begin by setting out the facts and decision - do not start in the middle ages .\",\n",
       " 'at the malthouse the men were discussing .',\n",
       " \"it 's not the usual thing we spend time discussing .\",\n",
       " \"there were things the men never spoke of to angie ; and she had known instinctively that eric 's job was something she and he would never openly discuss .\",\n",
       " 'a number of publishers have established , or are in the process of discussing , a form of merchandising agreement with the dillons group .',\n",
       " 'sacrist & aacute ; n and colleagues refer to chronic obstructive airways disease in the context of irreversible airways obstruction , which we did not discuss .',\n",
       " 'are they the kind of characters your students will identify with and therefore want to discuss ?',\n",
       " 'and also because the whole issue of all worship , was one of the things that we put the list of what we want to discuss .',\n",
       " 'should children be allowed to receive holy communion , discuss .',\n",
       " \"`` can we just stick to what we 're here to discuss ?\",\n",
       " \"there 's been a great deal to discuss .\",\n",
       " \"there is something we 're supposed to discuss . ``\",\n",
       " '`` we shall have a good deal to discuss , you know .',\n",
       " \"`` it 's the film they 're going to discuss . ``\",\n",
       " '`` we were discussing , `` he said .',\n",
       " '`` there is nothing for us to discuss . ``',\n",
       " \"i do not criticise , i merely observe ; and i 'm not sure what i would think if everyone the rail to admire the play of on the water and started discussing .\",\n",
       " \"she was fond of me - she would automatically agree , as if the matter were n't worth discussing , that she loved me - but she unquestioningly the best about me .\",\n",
       " 'but after they had finished eating ( which seemed to the travellers to take for ever ) , goibniu sent the other giants out of the room , because he had important business to discuss .',\n",
       " 'besides , `` her pudgy eyes suddenly narrowed and she ran a hand across her tattooed scalp , `` there are moves afoot which i am not at liberty to discuss .',\n",
       " 'talks on a fishing agreement with the european community ( ec ) have been suspended because of the fiery dispute with spain and because the ec says the quotas are too mean to be worth discussing .',\n",
       " 'we talked for hours on end about the existence or otherwise of god , the futility of human life , and all the other things sixteen-year-old girls find to discuss .',\n",
       " 'we went and we discussed .',\n",
       " 'mr. ron davies : to ask the secretary of state for wales when he last met representatives of the wrexham and east denbighshire water company ; and what matters they discussed .',\n",
       " \"that fair trading will make an immediate impact in a small way because of the reasons we 're discussing .\",\n",
       " \"it 's not gon na be the sort of thing you need to go into small groups and and discuss\",\n",
       " \"the pigeon 's compass only was , as in the previous we discussed .\",\n",
       " 'the question was unconnected to anything they had been discussing , but once again he understood .',\n",
       " 'the little knots of people that formed as usual outside the church after was over and the bells were tumbling out their soft dismissal song had plenty to discuss .',\n",
       " 'call back to mother to discuss .',\n",
       " \"merlyn said : `` it 's not a dead body we 're discussing , mr cobalt , it 's a box of powder .\",\n",
       " 'whatever system we are discussing , it is neither necessary nor helpful to subscribe to conspiracy theories of the behind-the-scenes influence exercised by civil servants .',\n",
       " 'we will consider the second claim of the clausal hypothesis first , since it relates to some of the findings which we have just been discussing .',\n",
       " 'the chief external examiners , with the dean , also make themselves available the previous day to discuss , with examinations committee chairs , students in difficult situations .',\n",
       " 'the line has a purposeful direction , mostly in contrary motion to the melody , and includes an effective chromaticism ( which is really outside the diatonic confines we are discussing ) .',\n",
       " 'the committee fails entirely to discuss , however , whether mistakes of a similar kind should have a similar effect .',\n",
       " \"two servants were arranging his breakfast on a table to one side , while two other vibrancers sat cushions in front of mandru 's couch , apparently discussing , or criticising , the performance .\",\n",
       " 'i can promise you that the police will do everything they can to find mr. stavanger , and to clear up the other matters we have been discussing . ``',\n",
       " '( how , thought alice , do we come to be discussing ? )',\n",
       " 'my first example , which is very well-known , exemplifies this point as well as a number of the other themes which i have been discussing .',\n",
       " \"`` oh , `` quiss said , shaking his great bearded head quickly as though the whole subject was of too little consequence to be worth discussing , `` they said they 'd see what they could do .\",\n",
       " 'the audience then discuss , `` did you hear abcd ? ``',\n",
       " 'teachers have found that the more solutions and strategies pupils see and discuss , the more they are to develop a real appreciation of mathematics at their own level .',\n",
       " 'if i stop and get the pupils discussing , or , i will lose valuable time , and some topic will be missed .',\n",
       " \"`` i - i do n't think we have anything to discuss , `` she got out rather stiffly .\",\n",
       " \"`` we have things to discuss , claudia ; i 'll see you tomorrow . ``\",\n",
       " 'that was a fait accompli , no longer worth discussing .',\n",
       " 'there are other matters we wish to discuss . ``',\n",
       " 'your reception was not courteous , but the prince and i had other matters to discuss .',\n",
       " 'we tasted , we enjoyed , we discussed .',\n",
       " '`` i would have said we had quite a number of things to discuss , my darling , `` luke contradicted her , the endearment a taunt and a challenge as always , never .',\n",
       " 'to see this consider again the consumption expenditure we have been discussing .',\n",
       " '`` how long do we have to discuss ? ``',\n",
       " \"she said , lifting one naked shoulder dismissively , `` it is n't something i care to discuss .\",\n",
       " 'when people write tutorials they usually do so as people who possess great knowledge about the subject they are discussing .',\n",
       " 'it is designed to provide an avenue by which teacher researchers can discuss , both formally and informally , areas of research interest .',\n",
       " \"the girls would return from extended lunchbreaks in the city centre - a problem personnel conceded they could n't resolve - rustling their voluminous plastic bags whose contents they would then exhaustively compare and discuss .\",\n",
       " '`` discuss , with reference to at least two plays , how tragedy can be enacted not only upon the but also upon a family ``',\n",
       " \"it did not aim for the situation that we 've been discussing , where people are trying to get the information .\",\n",
       " 'he said it was to discuss the children but what was there to discuss ?',\n",
       " 'thus , the cegb had explicitly tried to implement the principles we have been discussing .',\n",
       " \"i 've got some ideas i 'd like to discuss . ``\",\n",
       " 'and she knew who it was they were discussing .',\n",
       " '`` what would your ladyship prefer to discuss ? `` he enquired with heavy sarcasm .',\n",
       " \"but edmund 's death was still too raw a wound , still too painful to discuss .\",\n",
       " '`` did he discuss ? ``',\n",
       " \"it 's the quotation from i put your desk two weeks ago that we have to discuss . ``\",\n",
       " '`` mr wilder and i have private matters to discuss . ``',\n",
       " 'my understanding is that the decision by british airways was a commercial one based on the traffic , but i shall discuss , too , with my hon. friend the member for wiltshire , north when he returns .',\n",
       " 'those are all matters that we are trying to persuade the different leaders in yugoslavia to discuss .',\n",
       " 'i shall continue to discuss , with the hon. gentleman and with the taxi drivers , whatever measures need to be taken to ensure their safety and continue their employment .',\n",
       " \"they are reflected , of course , in the contents of the queen 's speech which we are now discussing .\",\n",
       " 'that is an absurd claim when , irrespective of the regulation that we are discussing , there are regular delays of between two and four hours for applications to social security offices .',\n",
       " 'it seems , with the hint of campaigns in unspecified areas , with no details of the number of applications , the department took the unusual that we are discussing - an unusual one on its own admission .',\n",
       " 'that is a completely wrong description of a matter which the select committee on privileges is now discussing - which is why it would not be appropriate for me to say anything further .',\n",
       " 'i am clear that the proposal that we are discussing , which involves a two-level station , is the best for londoners and the best for travellers , whether international or domestic .',\n",
       " 'those objections might not always have been covered by the bill that we were discussing , but we understood his argument .',\n",
       " 'that point of order seems to be related to the matter that we have just been discussing .',\n",
       " 'i should be sorry if the debate on the were to be unnecessarily and so the house from debating the civil rights ( disabled persons ) hon. members are waiting to discuss .',\n",
       " 'that brings me to the second that i wish to discuss - the question of anonymity , which the secretary of mentioned several times in his opening speech .',\n",
       " \"it is hoped that study of supply side aspects of macro-economic behaviour would increase the relevance of the model to the researchers ' studies of problems which are at the moment ill-fitted to discuss .\",\n",
       " 'we discussed , in essence , two basic options , namely a sale of the business solely to [ ] , or an expanded marketing including other likely acquiror companies .',\n",
       " 'these are areas which the full health & amp ; safety committee might wish to discuss .',\n",
       " 'jf and dfc to discuss .',\n",
       " 'foreign ministers of the league held an emergency session in tunis on july 15-16 to discuss , among other things , a joint response to the us suspension of the dialogue .',\n",
       " \"you 've alre you 're , you 're , you 're erm , er referring to the story that we were discussing\",\n",
       " '`` did you ring to give me a lecture or have you got something you want to discuss ? `` she asked impatiently .',\n",
       " '`` we shall have something important to discuss . ``',\n",
       " 'because the presentation is diagrammatic , needing no knowledge to construct or discuss , it encourages discussion between workers of different disciplines and backgrounds who are collaborating a project .',\n",
       " 'the adviser argued that the school as a whole did not seem to be discussing , or have any explicit policy on multicultural education .',\n",
       " 'at the exhibition - john smith discussing',\n",
       " '`` how christian aid supports projects `` : a panel to discuss .',\n",
       " 'to take the example of the parliaments , they were wider groups , to approve taxation , not to discuss .',\n",
       " 'they make an offer , we argue , then we discuss .',\n",
       " \"`` let 's & hellip ; er & hellip ; discuss & hellip ; ``\",\n",
       " '( ) and gm discuss .',\n",
       " 'let us return for a moment to the question of prognosis : what can be the outcome for modern societies of the phenomenon which we have been discussing ?',\n",
       " 'the result is the phenomenon of externalization which we have been discussing .',\n",
       " 'normally , or sometimes rather , we use the college for our regional council and i , i think the last meeting we were discussing , the regional council members were discussing , the er , the amalgamation .',\n",
       " 'normally , or sometimes rather , we use the college for our regional council and i , i think the last meeting we were discussing , the regional council members were discussing , the er , the amalgamation .',\n",
       " \"erm , i do need to see you some time erm let me just just see erm , but i 've got your erm your last term 's report here that we need to meet to discuss .\",\n",
       " 'good question but not one was prepared to discuss .',\n",
       " 'the group invites specialists to assist writing these documents and so encourages a wider circle of advisers on the issues we discuss .',\n",
       " 'more in-depth work may involve comparing two or more objects , noting differences , asking questions and discussing .',\n",
       " 'alternative explanations need to be canvassed , and then and discussed .',\n",
       " 'effective history teaching may also require that pupils spend as much time away from the screen , discussing , hypothesising and analysing their findings , as actually working at the keyboard .',\n",
       " 'but this does not mean you should limit yourself how many expressive purposes you discuss .',\n",
       " '4.5 attitude towards your reader and towards writers you are discussing',\n",
       " 'aspects of your chosen register your attitude towards your reader , as well as , sometimes , towards the writer ( s ) you are discussing .',\n",
       " '* avoid being condescending to your reader or about the text you are discussing ( see pp. 78-9 ) .',\n",
       " 'past tense , on the other hand , is generally used for describing situations or events outside the work ( s ) you are discussing , such as those of national or cultural history or the development of literary traditions .',\n",
       " 'but we discuss . ``',\n",
       " 'in trying to teach such a distinction , it is helpful to discuss , a kind of bridge or way , such phenomena as ghost stories and other instances of paranormal experience .',\n",
       " \"i think it may mean that we 'll have to call a meeting quite quickly this one , to discuss , but i really do n't think we 've got the basis of anything till that comes back .\",\n",
       " '`` which brings me to the final thing we need to discuss .',\n",
       " 'here is a message i got from a tame man u supporter on the subject we are all discussing .',\n",
       " 'the tenant will be liable for the vat ( ridgeons v commissioners of customs & amp ; lon/1990/1702 discussed [ 1992 ] 37 eg 97 ) .',\n",
       " '[ op ] i have begun the investigation of your claim along the lines that we discussed/i have applied for legal aid on your behalf .',\n",
       " 'i do not wish to discuss',\n",
       " \"local preference has n't or local views have not been canvassed about these locations that we 're now discussing .\",\n",
       " \"i what i have come here today to do is is in the matters that we 're discussing , to to take out any commitment to an outer northern .\",\n",
       " \"er let 's have a look at what we 're we 're er the meetings here to discuss .\",\n",
       " \"so i 'm actually glad that this is one that you 're actually prepared to discuss .\",\n",
       " \"my lords , so much for the er the procedures and the er outline of what we 're what we 're discussing .\",\n",
       " \"we can arrange the seminar to have different slots so the ones who do n't want to watch jeannie we can discuss erm , what would you like to discuss ?\",\n",
       " 'try and remember the key names though , right , with the sort of concepts that you want to discuss .',\n",
       " 'but really the questions that you tend to get erm are things like , critically evaluate and discuss .',\n",
       " 'now , `` he went on before she could reply , `` i suggest we eat first , then discuss matters - if there is anything to discuss - afterwards . ``',\n",
       " \"`` i do n't see that mr calder and i have anything more to discuss . ``\",\n",
       " \"now , there are one or two things we still need to discuss , so we 'll leave you and mr calder to work out some sort of timetable between yourselves . ``\",\n",
       " '`` what is it you want to discuss ? ``',\n",
       " 'he was sprawled in an armchair opposite and the expression on his face clearly her that he knew exactly what she and jennifer had been discussing .',\n",
       " '`` whom are we discussing ? ``',\n",
       " '`` discussing , `` ruth interrupted .',\n",
       " \"it matters what he calls it , if that 's even what he 's discussing .\",\n",
       " \"`` is n't that what we 're discussing ? ``\",\n",
       " '`` and still i have no idea who it is we discuss . ``',\n",
       " '`` then , we have nothing more to discuss .',\n",
       " 'was a subject they never discussed .',\n",
       " \"`` there is n't anything really to discuss .\",\n",
       " 'cabinet meets to discuss',\n",
       " 'but , as a means of trying to break the deadlock and restore a little democracy , it was certainly worth discussing .',\n",
       " 'fa chiefs to discuss',\n",
       " 'a new member came to the meeting dressed in full chinese costume and others personal chinese possessions for others to look at and discuss .',\n",
       " 'coun philip stamford bewlay ( ) said he did not want to see another pub in the town centre but officers said was not an the planning committee is entitled to discuss .',\n",
       " '`` that may be something the british athletic federation management board will want to discuss , `` said ward .',\n",
       " \"it 's a subject that we continue to discuss , `` mr boucher said , but he added that he had no progress to report .\",\n",
       " \"and the treasury team meet to discuss , there 's new talk of more defence .\",\n",
       " \"is there anything else you 'd like to discuss ?\",\n",
       " 'earlier , i discussed , i offered several options that might be pursued to make a project more attractive to potential customers .',\n",
       " 'at other times during the day they are brought together as a whole group to talk and discuss , to make music and to listen to stories .',\n",
       " 'the approach is active - learning by doing and discussing - and the activities are designed',\n",
       " 'for those who find it too difficult to discuss , any member of the membership services sub-committee would be happy to come along to your class or coffee morning etc. to put the case for you - please .',\n",
       " 'preparing ours for today and the whole question of thinking of being , main precedency of communion in our understanding erm , of ordination , which i know later we we will have time to discuss .',\n",
       " \"so regards to your upbringing they would n't , they discuss\",\n",
       " \"we 're just talking now this , this is , this is we 're discussing .\",\n",
       " \"but that 's what we were discussing .\",\n",
       " 'we , were discussing , for instance',\n",
       " \"i think he would make a most splendid king , but i mean , that 's not what we 're here , really discussing .\",\n",
       " \"in other words it would have to be job beneficial , it would have to be of strategic importance and and all those other things we 've been discussing .\",\n",
       " \"do n't worry about the because that 's just what erm , discussing , next time .\",\n",
       " \"there wo n't be much to discuss\",\n",
       " \"there wo n't be much to discuss\",\n",
       " 'you have three or four children sitting the computer discussing , arguing , , working with the machine , and the machine is , as i say , co-ordinating their activities .']"
      ]
     },
     "execution_count": 68,
     "metadata": {},
     "output_type": "execute_result"
    }
   ],
   "source": [
    "bnc['sents']['V']"
   ]
  },
  {
   "cell_type": "markdown",
   "metadata": {},
   "source": [
    "## 以 EF 資料統計正確和錯誤的 patterns"
   ]
  },
  {
   "cell_type": "markdown",
   "metadata": {},
   "source": [
    "### Before EF"
   ]
  },
  {
   "cell_type": "code",
   "execution_count": 69,
   "metadata": {},
   "outputs": [
    {
     "name": "stdout",
     "output_type": "stream",
     "text": [
      "Total: 2239, Avg: 1.6426999266324285, Std: 3.5240495265383576\n",
      "Total: 145, Avg: 3.5365853658536586, Std: 6.184550227058177\n",
      "Total: 2094, Avg: 10.214634146341464, Std: 36.84340998078887\n"
     ]
    }
   ],
   "source": [
    "ef_bef_sents = map(lambda obj: obj['bef_sent'] , ef_remains)\n",
    "ef_bef = all_info(ef_bef_sents)\n",
    "high_ef_bef = high(ef_bef)"
   ]
  },
  {
   "cell_type": "code",
   "execution_count": 70,
   "metadata": {},
   "outputs": [
    {
     "data": {
      "text/plain": [
       "[('V about n', 382),\n",
       " ('V n', 271),\n",
       " ('V with n', 157),\n",
       " ('V n of', 118),\n",
       " ('V n CC', 110),\n",
       " ('V n with', 95),\n",
       " ('V', 81),\n",
       " ('V n in', 45),\n",
       " ('V n for', 37),\n",
       " ('V n n', 37),\n",
       " ('V n adv', 35),\n",
       " ('V n about', 31),\n",
       " ('V in n', 30),\n",
       " ('VBN about n', 23),\n",
       " ('n about n', 22),\n",
       " ('V CC v', 21),\n",
       " ('V n TO', 20),\n",
       " ('V wh TO', 19),\n",
       " ('V n adj', 17),\n",
       " ('V adj about', 16),\n",
       " ('V for n', 16),\n",
       " ('V n that', 15),\n",
       " ('V wh n', 14),\n",
       " ('n', 14),\n",
       " ('VBN', 13),\n",
       " ('V on n', 13),\n",
       " ('VBN with n', 12),\n",
       " ('VBN in n', 12),\n",
       " ('V at n', 11),\n",
       " ('V adv', 11)]"
      ]
     },
     "execution_count": 70,
     "metadata": {},
     "output_type": "execute_result"
    }
   ],
   "source": [
    "sort_dict(high_ef_bef['patterns'][False])"
   ]
  },
  {
   "cell_type": "markdown",
   "metadata": {},
   "source": [
    "### After EF"
   ]
  },
  {
   "cell_type": "code",
   "execution_count": 71,
   "metadata": {},
   "outputs": [
    {
     "name": "stdout",
     "output_type": "stream",
     "text": [
      "Total: 2326, Avg: 1.6891793754538853, Std: 3.1370266061802132\n",
      "Total: 172, Avg: 3.5833333333333335, Std: 7.088233599110257\n",
      "Total: 2154, Avg: 14.07843137254902, Std: 44.753285841576364\n"
     ]
    }
   ],
   "source": [
    "ef_aft_sents = map(lambda obj: obj['aft_sent'] , ef_remains)\n",
    "ef_aft = all_info(ef_aft_sents)\n",
    "high_ef_aft = high(ef_aft)"
   ]
  },
  {
   "cell_type": "code",
   "execution_count": 72,
   "metadata": {},
   "outputs": [
    {
     "data": {
      "text/plain": [
       "[('V n', 396),\n",
       " ('V about n', 274),\n",
       " ('V n of', 165),\n",
       " ('V n with', 138),\n",
       " ('V n CC', 134),\n",
       " ('V with n', 126),\n",
       " ('V', 76),\n",
       " ('V n for', 56),\n",
       " ('V n in', 54),\n",
       " ('V n n', 45),\n",
       " ('V n adv', 44),\n",
       " ('V n about', 41),\n",
       " ('V n TO', 38),\n",
       " ('V in n', 33),\n",
       " ('V wh TO', 22),\n",
       " ('V n at', 19),\n",
       " ('V n that', 19),\n",
       " ('V CC v', 18),\n",
       " ('VBN in n', 18),\n",
       " ('V n adj', 16),\n",
       " ('V wh n', 16)]"
      ]
     },
     "execution_count": 72,
     "metadata": {},
     "output_type": "execute_result"
    }
   ],
   "source": [
    "sort_dict(high_ef_aft['patterns'][False])"
   ]
  },
  {
   "cell_type": "markdown",
   "metadata": {},
   "source": [
    "### Edit EF (Temp)"
   ]
  },
  {
   "cell_type": "code",
   "execution_count": 73,
   "metadata": {},
   "outputs": [],
   "source": [
    "ef_edit = {\n",
    "    'ngrams': defaultdict(Counter), \n",
    "    'patterns': defaultdict(lambda: defaultdict(lambda: Counter())), \n",
    "    'sents': defaultdict(lambda: defaultdict(lambda: []))\n",
    "}\n",
    "ef_right = {\n",
    "    'ngrams': Counter(), \n",
    "    'patterns': defaultdict(Counter), \n",
    "    'sents': defaultdict(lambda: [])\n",
    "}\n",
    "\n",
    "ef_edit_sents = filter(lambda obj: obj['has_edit'], ef_remains)\n",
    "for obj in ef_edit_sents:\n",
    "    origin, bef_sent, aft_sent = obj['origin'], obj['bef_sent'], obj['aft_sent']\n",
    "    \n",
    "    for token in bef_sent: \n",
    "        if token.lemma_ == TARGET_WORD:\n",
    "            is_pp = is_past_passive(token)\n",
    "            bef_ngram = get_ngram(token)\n",
    "            bef_ptn = get_pattern(token)\n",
    "\n",
    "    for token in aft_sent:\n",
    "        if token.lemma_ == TARGET_WORD:\n",
    "            aft_ngram = get_ngram(token)\n",
    "            aft_ptn = get_pattern(token)\n",
    "            \n",
    "    if bef_ptn != aft_ptn:  \n",
    "        ef_edit['ngrams'][bef_ngram][aft_ngram] += 1\n",
    "        ef_edit['patterns'][is_pp][bef_ptn][aft_ptn] += 1\n",
    "        ef_edit['sents'][bef_ptn][aft_ptn].append(origin)\n",
    "        \n",
    "        ef_right['ngrams'][aft_ngram] += 1\n",
    "        ef_right['patterns'][is_pp][aft_ptn] += 1\n",
    "        ef_right['sents'][aft_ptn].append(origin)\n",
    "    else:\n",
    "        ef_right['ngrams'][aft_ngram] += 1\n",
    "        ef_right['patterns'][is_pp][aft_ptn] += 1\n",
    "        ef_right['sents'][aft_ptn].append(origin)"
   ]
  },
  {
   "cell_type": "code",
   "execution_count": 74,
   "metadata": {},
   "outputs": [
    {
     "name": "stdout",
     "output_type": "stream",
     "text": [
      "Total: 19, Avg: 2.111111111111111, Std: 1.8525924445036743\n",
      "Total: 429, Avg: 4.515789473684211, Std: 17.889640141062966\n"
     ]
    },
    {
     "data": {
      "text/plain": [
       "{'V': 10,\n",
       " 'V about n': 172,\n",
       " 'V for n': 7,\n",
       " 'V in n': 5,\n",
       " 'V n': 14,\n",
       " 'V n CC': 6,\n",
       " 'V n in': 5,\n",
       " 'V n with': 8,\n",
       " 'V on n': 12,\n",
       " 'V with n': 40,\n",
       " 'VBN about n': 14,\n",
       " 'n about n': 9}"
      ]
     },
     "execution_count": 74,
     "metadata": {},
     "output_type": "execute_result"
    }
   ],
   "source": [
    "high_ef_edit = {\n",
    "    'patterns': {\n",
    "        True: get_high_freq(dict([(ptn, sum(ctn.values())) for ptn, ctn in ef_edit['patterns'][True].items()])),\n",
    "        False: get_high_freq(dict([(ptn, sum(ctn.values())) for ptn, ctn in ef_edit['patterns'][False].items()]))    \n",
    "    }\n",
    "}\n",
    "high_ef_edit['patterns'][False]"
   ]
  },
  {
   "cell_type": "markdown",
   "metadata": {},
   "source": [
    "## Rank"
   ]
  },
  {
   "cell_type": "code",
   "execution_count": 105,
   "metadata": {},
   "outputs": [],
   "source": [
    "def transform(table):\n",
    "    return dict([(ptn, (i, ctn)) for i, (ptn, ctn) in enumerate(sort_dict(table))])\n",
    "        \n",
    "def ranking(bnc_table, ef_table):\n",
    "    bnc_rank = transform(bnc_table)\n",
    "    # ef_rank = transform(ef_table)\n",
    "    \n",
    "    print(\"Pattern\\tRank(EF->BNC)\\tRatio(EF/BNC)\")\n",
    "    for i, (ptn, ctn) in enumerate(sort_dict(ef_table)):\n",
    "        if ptn in bnc_rank:\n",
    "            print(\"{}\\t{}->{}\\t{}\".format(ptn, i, bnc_rank[ptn][0], bnc_rank[ptn][1]/ctn))\n",
    "        else:\n",
    "            not_exist.append(ptn)\n",
    "            # print(\"{} NOT EXIST in BNC\".format(ptn))"
   ]
  },
  {
   "cell_type": "code",
   "execution_count": 106,
   "metadata": {},
   "outputs": [
    {
     "name": "stdout",
     "output_type": "stream",
     "text": [
      "Pattern\tRank(EF->BNC)\tRatio(EF/BNC)\n",
      "V n\t1->0\t4.789667896678967\n",
      "V with n\t2->8\t1.414012738853503\n",
      "V n of\t3->1\t10.254237288135593\n",
      "V n CC\t4->3\t3.8363636363636364\n",
      "V n with\t5->2\t6.473684210526316\n",
      "V\t6->5\t3.925925925925926\n",
      "V n in\t7->4\t7.466666666666667\n",
      "V n for\t8->9\t5.108108108108108\n",
      "V n n\t9->7\t6.837837837837838\n",
      "V n adv\t10->6\t7.742857142857143\n",
      "V in n\t12->24\t2.1666666666666665\n",
      "V CC v\t15->25\t2.857142857142857\n",
      "V n TO\t16->19\t3.55\n",
      "V wh TO\t17->42\t1.1578947368421053\n",
      "V n adj\t18->26\t3.2941176470588234\n",
      "V n that\t21->20\t4.533333333333333\n",
      "V wh n\t22->13\t7.428571428571429\n",
      "VBN\t24->11\t11.384615384615385\n",
      "VBN with n\t26->31\t3.5\n",
      "VBN in n\t27->10\t12.666666666666666\n",
      "V adv\t29->22\t6.090909090909091\n"
     ]
    }
   ],
   "source": [
    "is_PP = False\n",
    "not_exist = []\n",
    "ranking(high_bnc['patterns'][is_PP], high_ef_bef['patterns'][is_PP])"
   ]
  },
  {
   "cell_type": "code",
   "execution_count": 102,
   "metadata": {},
   "outputs": [],
   "source": [
    "# bnc['patterns'][False]\n",
    "# temp = nlp(bnc['sents']['V V V'][0])[6]\n",
    "# temp.is_punct"
   ]
  },
  {
   "cell_type": "markdown",
   "metadata": {},
   "source": [
    "## 觀察區"
   ]
  },
  {
   "cell_type": "code",
   "execution_count": 31,
   "metadata": {},
   "outputs": [],
   "source": [
    "is_PP = False"
   ]
  },
  {
   "cell_type": "code",
   "execution_count": 23,
   "metadata": {},
   "outputs": [
    {
     "ename": "NameError",
     "evalue": "name 'is_PP' is not defined",
     "output_type": "error",
     "traceback": [
      "\u001b[0;31m---------------------------------------------------------------------------\u001b[0m",
      "\u001b[0;31mNameError\u001b[0m                                 Traceback (most recent call last)",
      "\u001b[0;32m<ipython-input-23-d32a87fb9647>\u001b[0m in \u001b[0;36m<module>\u001b[0;34m()\u001b[0m\n\u001b[0;32m----> 1\u001b[0;31m \u001b[0msort_dict\u001b[0m\u001b[0;34m(\u001b[0m\u001b[0mhigh_bnc\u001b[0m\u001b[0;34m[\u001b[0m\u001b[0;34m'patterns'\u001b[0m\u001b[0;34m]\u001b[0m\u001b[0;34m[\u001b[0m\u001b[0mis_PP\u001b[0m\u001b[0;34m]\u001b[0m\u001b[0;34m)\u001b[0m \u001b[0;31m# 這裡的 VBN 為完成式\u001b[0m\u001b[0;34m\u001b[0m\u001b[0m\n\u001b[0m",
      "\u001b[0;31mNameError\u001b[0m: name 'is_PP' is not defined"
     ]
    }
   ],
   "source": [
    "sort_dict(high_bnc['patterns'][is_PP]) # 這裡的 VBN 為完成式"
   ]
  },
  {
   "cell_type": "code",
   "execution_count": 22,
   "metadata": {},
   "outputs": [
    {
     "data": {
      "text/plain": [
       "[]"
      ]
     },
     "execution_count": 22,
     "metadata": {},
     "output_type": "execute_result"
    }
   ],
   "source": [
    "bnc['sents']['V N of']"
   ]
  },
  {
   "cell_type": "code",
   "execution_count": 21,
   "metadata": {},
   "outputs": [
    {
     "data": {
      "text/plain": [
       "[('V about N', 383),\n",
       " ('V N .', 201),\n",
       " ('V with N', 157),\n",
       " ('V N of', 118),\n",
       " ('V N CC', 110),\n",
       " ('V N with', 95),\n",
       " ('V N ,', 55),\n",
       " ('V N in', 45),\n",
       " ('V .', 45)]"
      ]
     },
     "execution_count": 21,
     "metadata": {},
     "output_type": "execute_result"
    }
   ],
   "source": [
    "sort_dict(high_ef_bef['patterns'][is_PP]) # 這裡的 VBN 為完成式"
   ]
  },
  {
   "cell_type": "code",
   "execution_count": 32,
   "metadata": {},
   "outputs": [
    {
     "data": {
      "text/plain": [
       "[('V N .', 290),\n",
       " ('V about N', 275),\n",
       " ('V N of', 165),\n",
       " ('V N with', 138),\n",
       " ('V N CC', 134),\n",
       " ('V with N', 126),\n",
       " ('V N ,', 81),\n",
       " ('V N for', 56),\n",
       " ('V N in', 54)]"
      ]
     },
     "execution_count": 32,
     "metadata": {},
     "output_type": "execute_result"
    }
   ],
   "source": [
    "sort_dict(high_ef_aft['patterns'][is_PP]) # 這裡的 VBN 為完成式"
   ]
  },
  {
   "cell_type": "code",
   "execution_count": null,
   "metadata": {},
   "outputs": [],
   "source": []
  },
  {
   "cell_type": "code",
   "execution_count": 29,
   "metadata": {},
   "outputs": [
    {
     "name": "stdout",
     "output_type": "stream",
     "text": [
      "0.6824324324324325\n"
     ]
    }
   ],
   "source": [
    "def is_exist(token):\n",
    "    ptn = get_pattern(token)\n",
    "    is_pp = is_past_passive(token)\n",
    "    return ptn in high_bnc['patterns'][is_pp]\n",
    "\n",
    "y_test = [is_exist(token) == answer for line, answer in test_data for token in line if token.lemma_ == TARGET_WORD]\n",
    "print(sum(y_test) / len(y_test))"
   ]
  },
  {
   "cell_type": "code",
   "execution_count": null,
   "metadata": {},
   "outputs": [],
   "source": []
  },
  {
   "cell_type": "code",
   "execution_count": 162,
   "metadata": {},
   "outputs": [
    {
     "name": "stdout",
     "output_type": "stream",
     "text": [
      "Dep tree   Token     Dep type Lemma   Tag  Part of Sp\n",
      "────────── ───────── ──────── ─────── ──── ──────────\n",
      "       ┌─> last      amod     last    JJ   ADJ       \n",
      " ┌────>└── week      npadvmod week    NN   NOUN      \n",
      " │┌──────> ,         punct    ,       ,    PUNCT     \n",
      " ││    ┌─> my        poss     -PRON-  PRP$ ADJ       \n",
      " ││┌─>┌┼── wife      nsubj    wife    NN   NOUN      \n",
      " │││  │└─> and       cc       and     CC   CCONJ     \n",
      " │││  └──> i         conj     i       PRP  PRON      \n",
      " │││   ┌─> have      aux      have    VBP  VERB      \n",
      "┌┼┴┴───┴── discussed ROOT     discuss VBN  VERB      \n",
      "│└─>┌───── about     prep     about   IN   ADP       \n",
      "│   │  ┌─> our       poss     -PRON-  PRP$ ADJ       \n",
      "│   └─>└── future    pobj     future  NN   NOUN      \n",
      "└────────> .         punct    .       .    PUNCT     \n"
     ]
    }
   ],
   "source": [
    "explacy.print_parse_info(nlp, 'last week , my wife and i have discussed about our future .')"
   ]
  },
  {
   "cell_type": "code",
   "execution_count": 63,
   "metadata": {},
   "outputs": [
    {
     "name": "stdout",
     "output_type": "stream",
     "text": [
      "False\n",
      "False\n",
      "False\n",
      "False\n",
      "False\n",
      "False\n",
      "False\n",
      "False\n",
      "False\n",
      "False\n",
      "False\n",
      "False\n",
      "False\n",
      "False\n",
      "False\n",
      "False\n",
      "False\n",
      "False\n",
      "False\n",
      "False\n",
      "False\n",
      "False\n",
      "False\n",
      "False\n",
      "False\n",
      "False\n",
      "False\n",
      "False\n",
      "False\n",
      "False\n",
      "False\n",
      "False\n"
     ]
    }
   ],
   "source": [
    "test = nlp('well , . ( we were discussing my comments today on the on the erm relationship between the two countries , and i think you have just heard what they were .')\n",
    "for tk in test:\n",
    "    print(tk.is_stop)"
   ]
  },
  {
   "cell_type": "code",
   "execution_count": null,
   "metadata": {},
   "outputs": [],
   "source": []
  }
 ],
 "metadata": {
  "kernelspec": {
   "display_name": "Python 3",
   "language": "python",
   "name": "python3"
  },
  "language_info": {
   "codemirror_mode": {
    "name": "ipython",
    "version": 3
   },
   "file_extension": ".py",
   "mimetype": "text/x-python",
   "name": "python",
   "nbconvert_exporter": "python",
   "pygments_lexer": "ipython3",
   "version": "3.5.2"
  }
 },
 "nbformat": 4,
 "nbformat_minor": 2
}
