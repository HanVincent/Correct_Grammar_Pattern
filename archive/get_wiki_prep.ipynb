{
 "cells": [
  {
   "cell_type": "code",
   "execution_count": 1,
   "metadata": {},
   "outputs": [],
   "source": [
    "from utils.syntax import PREPOSITIONS\n",
    "import re"
   ]
  },
  {
   "cell_type": "code",
   "execution_count": 2,
   "metadata": {},
   "outputs": [],
   "source": [
    "# Retain preposition tag\n",
    "edit_tag = r'(\\[-(.+?)-\\]|\\{\\+(.+?)\\+\\})'\n",
    "def retain_target(line):\n",
    "    is_target = False\n",
    "    matches = re.findall(edit_tag, line)\n",
    "    for edit, delete, insert in matches:\n",
    "        if delete in PREPOSITIONS or insert in PREPOSITIONS: is_target = True\n",
    "        elif delete: line = line.replace(edit, '')\n",
    "        elif insert: line = line.replace(edit, insert)\n",
    "    return line if is_target else None\n",
    "\n",
    "\n",
    "# Transform format [-for-] {+in+} >> [-for>>in+}\n",
    "replace_format = r'(\\[-([^-]+?)-\\] \\{\\+([^+]+?)\\+\\})'\n",
    "def transform_replace(line):\n",
    "    matches = re.findall(replace_format, line)\n",
    "    for edit, delete, insert in matches:\n",
    "        line = line.replace(edit, \"[-{}>>{}+}}\".format(delete, insert))\n",
    "    return line\n",
    "\n",
    "\n",
    "# One line one error\n",
    "new_edit_tag = r'(\\[-(.+?)-\\]|{\\+(.+?)\\+}|\\[-(.+?)>>(.+?)\\+})'\n",
    "def duplicate(line):\n",
    "    dups = []\n",
    "    matches = re.findall(new_edit_tag, line)\n",
    "    for i in range(len(matches)):\n",
    "        dup = line\n",
    "        for j, (edit, delete, insert, rd, ri) in enumerate(matches):\n",
    "            if   i == j: continue\n",
    "            elif delete: dup = dup.replace(edit, '')\n",
    "            elif insert: dup = dup.replace(edit, insert)\n",
    "            else:        dup = dup.replace(edit, ri)\n",
    "        dups.append(dup)\n",
    "    return dups"
   ]
  },
  {
   "cell_type": "code",
   "execution_count": 13,
   "metadata": {},
   "outputs": [
    {
     "name": "stdout",
     "output_type": "stream",
     "text": [
      "An area of about 8 meters [-x-] by 3 meters is marked as the ' bowling alley '.\n",
      "\n",
      "[\"An area of about 8 meters [-x-] by 3 meters is marked as the ' bowling alley '.\\n\"]\n",
      "Fill {+them+} with a little water to make them heavier .\n",
      "\n",
      "['Fill {+them+} with a little water to make them heavier .\\n']\n",
      "Line {+them+} up in rows of 4 , then , 3 , then 2 [-,-] {+and+} then 1 - just like {+in+} [-ten-] {+Ten+} - pin [-bowling-] {+Bowling+} .\n",
      "\n",
      "['Line {+them+} up in rows of 4 , then , 3 , then 2 and then 1 - just like in Ten - pin Bowling .\\n', 'Line them up in rows of 4 , then , 3 , then 2 [-,>>and+} then 1 - just like in Ten - pin Bowling .\\n', 'Line them up in rows of 4 , then , 3 , then 2 and then 1 - just like {+in+} Ten - pin Bowling .\\n', 'Line them up in rows of 4 , then , 3 , then 2 and then 1 - just like in [-ten>>Ten+} - pin Bowling .\\n', 'Line them up in rows of 4 , then , 3 , then 2 and then 1 - just like in Ten - pin [-bowling>>Bowling+} .\\n']\n",
      "Give a [-frisbee-] {+Frisbee+} to each player and allow {+them+} to take two shots on each turn .\n",
      "\n",
      "['Give a [-frisbee>>Frisbee+} to each player and allow them to take two shots on each turn .\\n', 'Give a Frisbee to each player and allow {+them+} to take two shots on each turn .\\n']\n",
      "Give a total of ten turns to each [-players-] {+player+} .\n",
      "\n",
      "['Give a total of ten turns to each [-players>>player+} .\\n']\n",
      "{+Each player+} [-Score-] {+scores+} one point for each pin that is knocked down .\n",
      "\n",
      "['{+Each player+} scores one point for each pin that is knocked down .\\n', 'Each player [-Score>>scores+} one point for each pin that is knocked down .\\n']\n",
      "If {+a player+} [-score-] {+scores+} a ' strike ', then [-the-] {+he+} {+or+} [-player-] {+she+} takes two more shots and [-add-] {+adds+} all {+of+} [-the-] {+his+} {+or her+} points together .\n",
      "\n",
      "[\"If {+a player+} scores a ' strike ', then he or she takes two more shots and adds all of his or her points together .\\n\", \"If a player [-score>>scores+} a ' strike ', then he or she takes two more shots and adds all of his or her points together .\\n\", \"If a player scores a ' strike ', then [-the>>he+} or she takes two more shots and adds all of his or her points together .\\n\", \"If a player scores a ' strike ', then he {+or+} she takes two more shots and adds all of his or her points together .\\n\", \"If a player scores a ' strike ', then he or [-player>>she+} takes two more shots and adds all of his or her points together .\\n\", \"If a player scores a ' strike ', then he or she takes two more shots and [-add>>adds+} all of his or her points together .\\n\", \"If a player scores a ' strike ', then he or she takes two more shots and adds all {+of+} his or her points together .\\n\", \"If a player scores a ' strike ', then he or she takes two more shots and adds all of [-the>>his+} or her points together .\\n\", \"If a player scores a ' strike ', then he or she takes two more shots and adds all of his {+or her+} points together .\\n\"]\n",
      "Hi [-,-] Robert {+,+} Glad to get your reply on my application so soon .\n",
      "\n",
      "['Hi [-,-] Robert , Glad to get your reply on my application so soon .\\n', 'Hi  Robert {+,+} Glad to get your reply on my application so soon .\\n']\n",
      "I need these extra [-pracise-] {+practise+} to improve my oral English , so I can do [-a-] better communication with my [-Enlish-] {+English+} - speaking [-collegues-] {+colleges+} , which would help my career greatly .\n",
      "\n",
      "['I need these extra [-pracise>>practise+} to improve my oral English , so I can do [-a-] better communication with my English - speaking colleges , which would help my career greatly .\\n', 'I need these extra  better communication with my [-Enlish>>English+} - speaking colleges , which would help my career greatly .\\n', 'I need these extra  better communication with my English - speaking [-collegues>>colleges+} , which would help my career greatly .\\n']\n",
      "So the subject I would like to study is Oral [-Enlish-] {+English+} .\n",
      "\n",
      "['So the subject I would like to study is Oral [-Enlish>>English+} .\\n']\n"
     ]
    }
   ],
   "source": [
    "lines = open('/atom/corpus/written/EFCAM/EFCAM.error.txt', 'r', encoding='utf8', errors='ignore').readlines()\n",
    "\n",
    "remain_lines = []\n",
    "for line in lines[100:110]:\n",
    "    line = retain_target(line.strip())\n",
    "    if line:\n",
    "        line = transform_replace(line.replace('  ', ' '))\n",
    "        dups = duplicate(line)\n",
    "        print(dups)\n",
    "        remain_lines.extend(dups)"
   ]
  },
  {
   "cell_type": "code",
   "execution_count": 10,
   "metadata": {},
   "outputs": [],
   "source": [
    "# ws = open('wikedit_prep', 'w', encoding='utf8')\n",
    "# for line in remain_lines:\n",
    "#     print(line, file=ws)\n",
    "# ws.close()"
   ]
  },
  {
   "cell_type": "code",
   "execution_count": 6,
   "metadata": {},
   "outputs": [
    {
     "data": {
      "text/plain": [
       "['15 sq with an extension of up to 150 sqm permissible with a price of $200,000.',\n",
       " '15 sq with an extension of up to 150 sqm permissible with a price of $200,000.',\n",
       " 'It is much larger than the first one , the land  is 1200 sqm approx and the house  is 224 .',\n",
       " 'It is much larger than the first one , the land  is 1200 sqm approx and the house  is 224 .',\n",
       " 'As he was approaching the corner at Elm and Fourth , he saw a young couple get out of a car and talk about noise and air pollution [-with>>by+} leaving the engine running and the stereo playing .']"
      ]
     },
     "execution_count": 6,
     "metadata": {},
     "output_type": "execute_result"
    }
   ],
   "source": [
    "remain_lines"
   ]
  },
  {
   "cell_type": "code",
   "execution_count": 4,
   "metadata": {},
   "outputs": [],
   "source": [
    "short_lines = list(filter(lambda line: len(line.split(' ')) <= 25, remain_lines))"
   ]
  },
  {
   "cell_type": "code",
   "execution_count": 5,
   "metadata": {},
   "outputs": [
    {
     "data": {
      "text/plain": [
       "['15 sq with an extension of up to 150 sqm permissible with a price of $200,000.',\n",
       " '15 sq with an extension of up to 150 sqm permissible with a price of $200,000.',\n",
       " 'It is much larger than the first one , the land  is 1200 sqm approx and the house  is 224 .',\n",
       " 'It is much larger than the first one , the land  is 1200 sqm approx and the house  is 224 .']"
      ]
     },
     "execution_count": 5,
     "metadata": {},
     "output_type": "execute_result"
    }
   ],
   "source": [
    "short_lines[:10]"
   ]
  },
  {
   "cell_type": "code",
   "execution_count": null,
   "metadata": {},
   "outputs": [],
   "source": []
  }
 ],
 "metadata": {
  "kernelspec": {
   "display_name": "Python 3",
   "language": "python",
   "name": "python3"
  },
  "language_info": {
   "codemirror_mode": {
    "name": "ipython",
    "version": 3
   },
   "file_extension": ".py",
   "mimetype": "text/x-python",
   "name": "python",
   "nbconvert_exporter": "python",
   "pygments_lexer": "ipython3",
   "version": "3.6.5"
  }
 },
 "nbformat": 4,
 "nbformat_minor": 2
}
