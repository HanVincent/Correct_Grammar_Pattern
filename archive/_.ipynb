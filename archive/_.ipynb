{
 "cells": [
  {
   "cell_type": "code",
   "execution_count": 1,
   "metadata": {},
   "outputs": [],
   "source": [
    "test = '''\tdobj\tdirect object\twe also hold regular meetings of volunteers to discuss issues of concern and encourage one another .\n",
    "\tprep\tprepositional modifier\t you can discuss with your doctor or family clinic which is most suitable for you .\n",
    "\tnsubj\tnominal subject(主詞)\ttwo experts discuss hiv in front of hugely-magnified projection of soldier cells .\n",
    "\tnsubjpass\tnominal subject (passive)\t this week the structure of the cup is being discussed .    \n",
    "\tccomp\tclausal complement\tit declined to discuss who specifically it was talking to or the substance of the discussions .\n",
    "\txcomp\topen clausal complement\tso , we discussed how to avoid that first one in the morning .    \n",
    "===\n",
    "\taux\tauxiliary\tif this unlikely situation arises , you should discuss the problem with us .\n",
    "\tadvmod\tadverbial modifier\tthe aspects of this political theology will be discussed later .\n",
    "\tauxpass\tauxiliary (passive)\tthe adequacy of the capital and revenue parts of the grant are discussed .,\n",
    "\tcc\tcoordinating conjunction\t budgets were frankly discussed and the celebration of increases in salary was common .  \n",
    "\tconj\tconjunct\t it is being discussed on the diplomatic circuit and it will no doubt bubble up at westminster .\n",
    "\tmark\tmarker(since, so, that...)\tideally , both and son should attend so that they could discuss from a common base .\n",
    "\tneg\tnegation modifier\ti 'm not even discussing it with you .\n",
    "\tadvcl\tadverbial clause modifier\tif this unlikely situation arises , you should discuss the problem with us .\n",
    "\tnpadvmod\tnoun phrase as adverbial modifier(this week)\tit will be discussed by research ministers at their meeting today ( thursday ) .\n",
    "\tagent\tagent\t two other logistic problems are discussed by mcclellan .\n",
    "\tintj\tinterjection\tplease discuss this with me if it seems confusing !\n",
    "'''"
   ]
  },
  {
   "cell_type": "code",
   "execution_count": null,
   "metadata": {},
   "outputs": [],
   "source": [
    "asdf = Counter()\n",
    "fdsa = defaultdict(lambda: [])\n",
    "for line in bnc_remains:\n",
    "    if len(line) > 20:\n",
    "        continue\n",
    "\n",
    "    for tk in line:\n",
    "        if tk.lemma_ == 'discuss' and tk.tag_.startswith('V'):\n",
    "            for child in tk.children:\n",
    "                asdf[child.dep_] += 1\n",
    "                fdsa[child.dep_].append(line)\n",
    "                \n",
    "for ptn, ctn in sort_dict(asdf):\n",
    "    if ctn < 20: continue\n",
    "    print(ptn, ctn)"
   ]
  },
  {
   "cell_type": "code",
   "execution_count": null,
   "metadata": {},
   "outputs": [],
   "source": [
    "use, unuse = test.split('===')\n",
    "use = use.split('\\n')\n",
    "unuse = unuse.split('\\n')\n",
    "\n",
    "def hi(doc):\n",
    "    for line in doc:\n",
    "        line = line.strip()\n",
    "        if line:\n",
    "            dep, exp, sent = line.split('\\t')\n",
    "            print(\"{}/{}\\t{}\\t{}\".format(dep, asdf[dep], exp, sent))\n",
    "            for tk in nlp(sent):\n",
    "                print(\"\\t{}\\t{}\\t{}\\t{}\".format(tk.i, tk, tk.dep_, tk.head.i if tk.dep_ != 'ROOT' else 0))\n",
    "            print()\n",
    "            \n",
    "print(\"Useful:\")\n",
    "hi(use)\n",
    "print()\n",
    "print(\"Unuseful:\")\n",
    "hi(unuse)"
   ]
  }
 ],
 "metadata": {
  "kernelspec": {
   "display_name": "Python 3",
   "language": "python",
   "name": "python3"
  },
  "language_info": {
   "codemirror_mode": {
    "name": "ipython",
    "version": 3
   },
   "file_extension": ".py",
   "mimetype": "text/x-python",
   "name": "python",
   "nbconvert_exporter": "python",
   "pygments_lexer": "ipython3",
   "version": "3.5.2"
  }
 },
 "nbformat": 4,
 "nbformat_minor": 2
}
