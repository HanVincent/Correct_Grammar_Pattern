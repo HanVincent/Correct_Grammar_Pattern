{
 "cells": [
  {
   "cell_type": "code",
   "execution_count": 1,
   "metadata": {},
   "outputs": [],
   "source": [
    "from utils.before_after import *\n",
    "from collections import defaultdict\n",
    "import numpy as np\n",
    "import spacy"
   ]
  },
  {
   "cell_type": "code",
   "execution_count": 2,
   "metadata": {},
   "outputs": [],
   "source": [
    "nlp = spacy.load('en_core_web_lg') # ('en')"
   ]
  },
  {
   "cell_type": "markdown",
   "metadata": {},
   "source": [
    "## 用 dependency 抓 pattern\n",
    "#### 第一層 dependency\n",
    "dobj, prep, nsubj, nsubjpass, ccomp, xcomp, csubj, csubjpass, prt, acomp, oprd\n",
    "\n",
    "#### 第二層 dependency\n",
    "prep -> pobj, pcomp\n"
   ]
  },
  {
   "cell_type": "code",
   "execution_count": 12,
   "metadata": {},
   "outputs": [],
   "source": [
    "from utils.syntax import *\n",
    "\n",
    "SUB  = ['nsubj', 'nsubjpass', 'oprd']\n",
    "OBJ  = ['dobj', 'pobj']\n",
    "CL   = ['ccomp', 'xcomp', 'acomp', 'pcomp', 'csubj', 'csubjpass']\n",
    "PREP = ['prep', 'prt']\n",
    "\n",
    "def classify_cl(token):\n",
    "    children = list(token.children)\n",
    "    if children:\n",
    "        if children[0].tag_ in WH: return 'wh-cl'\n",
    "        if children[0].tag_ == 'TO': return 'to-v'\n",
    "    return 'cl'\n",
    "    \n",
    "def head_mapping(token):\n",
    "    if token.tag_ == 'VBN':      return 'V-ed'\n",
    "    if token.tag_ == 'VBG':      return 'V-ing'\n",
    "    if token.tag_ in VERBS:      return 'V'\n",
    "    \n",
    "def dep_mapping(token):\n",
    "    # 順序 matters\n",
    "    if token.dep_ in CL:         return classify_cl(token)    \n",
    "    \n",
    "    if token.dep_ == 'aux' and token.lemma_ == 'have': return 'have'\n",
    "    if token.lemma_ == 'be':     return 'be'\n",
    "    \n",
    "    if token.dep_ in SUB:        return 'S'\n",
    "    \n",
    "    if token.tag_ == 'VBN':      return 'v-ed'\n",
    "    if token.tag_ == 'VBG':      return 'v-ing'\n",
    "    if token.tag_ in VERBS:      return 'v'\n",
    "    \n",
    "    if token.dep_ in OBJ:        return 'O'\n",
    "    if token.dep_ in PREP:       return token.text\n",
    "    if token.tag_ == 'TO':       return 'to'\n",
    "    \n",
    "    return None"
   ]
  },
  {
   "cell_type": "code",
   "execution_count": 13,
   "metadata": {},
   "outputs": [],
   "source": [
    "FIRST_REMAINS = ['aux', 'auxpass', 'dobj', 'prep', 'nsubj', 'nsubjpass', 'ccomp', 'xcomp', 'csubj', 'csubjpass', 'prt' 'acomp', 'oprd']\n",
    "SECOND_REMAINS = ['pobj', 'pcomp']\n",
    "go_deeper = ['prep']\n",
    "\n",
    "def keep_children(tk, rules):\n",
    "    return [child for child in tk.children if child.dep_ in rules]\n",
    "\n",
    "def flattern(list_2d):\n",
    "    return [el for li in list_2d for el in li]\n",
    "\n",
    "def dep_to_pattern(head_word):\n",
    "    tokens = [head_word] + keep_children(head_word, FIRST_REMAINS)\n",
    "    tokens += flattern([keep_children(tk, SECOND_REMAINS) for tk in tokens if tk.dep_ in go_deeper])\n",
    "    \n",
    "    tokens.sort(key=lambda tk: tk.i)\n",
    "    \n",
    "    ptns = [head_mapping(tk) if tk.i == head_word.i else dep_mapping(tk) for tk in tokens]\n",
    "    \n",
    "    ptn = ' '.join([p for p in ptns if p])\n",
    "    ngram = ' '.join([tk.text for tk in tokens])\n",
    "\n",
    "    return ptn, ngram"
   ]
  },
  {
   "cell_type": "code",
   "execution_count": 15,
   "metadata": {},
   "outputs": [],
   "source": [
    "# headword, patterns, ngrams\n",
    "patterns = defaultdict(lambda: defaultdict(lambda: []))\n",
    "sents = defaultdict(lambda: defaultdict(lambda: [])) # for debug\n",
    "\n",
    "def clean_data(file):\n",
    "    lower_lines = map(lambda line: line.strip().lower(), open(file, 'r', encoding='utf8'))\n",
    "    lines = filter(lambda line: len(line.split(' ')) <= 25, lower_lines)\n",
    "    return lines\n",
    "\n",
    "for line in clean_data('../dataset/test.txt'):\n",
    "    line = nlp(line, disable=['ner'])\n",
    "    for tk in line:\n",
    "        # 先抓 headword 是 verb 的\n",
    "        if tk.tag_ in VERBS: \n",
    "            ptn, ngram = dep_to_pattern(tk)\n",
    "            patterns[tk.lemma_][ptn].append(ngram)\n",
    "            sents[tk.lemma_][ptn].append(tk.doc.text)"
   ]
  },
  {
   "cell_type": "code",
   "execution_count": 18,
   "metadata": {},
   "outputs": [
    {
     "data": {
      "text/plain": [
       "dict_keys(['attend', 'keep', 'fund', 'sell', 'do', 'provide', 'have', 'ensure', 'organise', 'feel', 've', 'include', 'say', 'know', 'hesitate', 'help', 'support', 'involve', 'put', 'identify', 'find', 'write', 'represent', 'realise', 'complete', 'visit', 'get', 'hold', 'need', 'collect', 'like', 'report', 'receive', 'ask', 'pluck', 'make', 'respond', 'fight', 'come', 'be', 'call', 'plan', 'face', 'work', 'raise', 'affect', 'exist', 'discuss', 'become', 'serve', 'leave', 'encourage', 'happen', 'open', 'bake', 'go', 'believe', 'contact', 'give'])"
      ]
     },
     "execution_count": 18,
     "metadata": {},
     "output_type": "execute_result"
    }
   ],
   "source": [
    "patterns.keys()"
   ]
  },
  {
   "cell_type": "code",
   "execution_count": 22,
   "metadata": {},
   "outputs": [
    {
     "data": {
      "text/plain": [
       "defaultdict(<function __main__.<lambda>.<locals>.<lambda>>,\n",
       "            {'S S V': ['richard burrows are'],\n",
       "             'S V': ['what is',\n",
       "              'aids is',\n",
       "              'aspects can be',\n",
       "              'people are',\n",
       "              'situation is',\n",
       "              'money can be',\n",
       "              'total is',\n",
       "              'it is',\n",
       "              'none is',\n",
       "              'they are',\n",
       "              'i was',\n",
       "              'it can be',\n",
       "              \"it 's\",\n",
       "              'answer is',\n",
       "              'this is',\n",
       "              'leader will be',\n",
       "              'i am',\n",
       "              'team were'],\n",
       "             'S V as': ['women are as'],\n",
       "             'S V at O': ['we are at beginning'],\n",
       "             'S V cl': ['it is are', 'you are be', 'it is represents'],\n",
       "             'S V in O': [\"it 's in cause\"],\n",
       "             'S V to-v': ['impact is come'],\n",
       "             'V': ['is',\n",
       "              'are',\n",
       "              'is',\n",
       "              'are',\n",
       "              'be',\n",
       "              'are',\n",
       "              'are',\n",
       "              'are',\n",
       "              'be',\n",
       "              'is',\n",
       "              'are',\n",
       "              'be',\n",
       "              'are',\n",
       "              'are',\n",
       "              'are',\n",
       "              'are',\n",
       "              'are',\n",
       "              'is'],\n",
       "             'V S': ['is infection'],\n",
       "             'V-ing': ['being'],\n",
       "             'to V': ['to be', 'to be']})"
      ]
     },
     "execution_count": 22,
     "metadata": {},
     "output_type": "execute_result"
    }
   ],
   "source": [
    "patterns['be']"
   ]
  },
  {
   "cell_type": "code",
   "execution_count": 24,
   "metadata": {},
   "outputs": [
    {
     "data": {
      "text/plain": [
       "['it is not transmitted from :',\n",
       " 'often people are rejected by family and friends , leaving them to face this chronic condition .',\n",
       " 'there is no vaccine or currently available .',\n",
       " '10 million people worldwide are infected with hiv .',\n",
       " 'you can be infected for between 10-15 years without realising it .',\n",
       " '16 , 000 infections ( it is probable that there are between 40-60 , 000 people actually ) .',\n",
       " 'there are nearly 5 , 000 cases of aids , of which nearly 3 , 000 have already died .',\n",
       " '1 in 500 londoners are believed to be infected .',\n",
       " '1 in 500 londoners are believed to be infected .',\n",
       " 'there is no limit to the number of ways to raise money .',\n",
       " 'many of our existing volunteers have families and jobs and are often very busy .',\n",
       " 'you will be asked to complete an application and subsequently to attend an acet training course one evening a week for six weeks .',\n",
       " 'you are also asked to keep your church leaders of your involvement so that they can ensure you are adequately supported .',\n",
       " 'you are also asked to keep your church leaders of your involvement so that they can ensure you are adequately supported .',\n",
       " 'every client you are asked to call the office so that you can report how the visit went .',\n",
       " 'cliff said , `` i am pleased to support acet in the world they are doing .',\n",
       " 'so often christians are criticised for not getting involved . ``',\n",
       " 'strathclyde regional council may provide further funding and consideration is being given to the possible employment of a part-time nurse .']"
      ]
     },
     "execution_count": 24,
     "metadata": {},
     "output_type": "execute_result"
    }
   ],
   "source": [
    "sents['be']['V']"
   ]
  },
  {
   "cell_type": "code",
   "execution_count": null,
   "metadata": {},
   "outputs": [],
   "source": []
  }
 ],
 "metadata": {
  "kernelspec": {
   "display_name": "Python 3",
   "language": "python",
   "name": "python3"
  },
  "language_info": {
   "codemirror_mode": {
    "name": "ipython",
    "version": 3
   },
   "file_extension": ".py",
   "mimetype": "text/x-python",
   "name": "python",
   "nbconvert_exporter": "python",
   "pygments_lexer": "ipython3",
   "version": "3.5.2"
  }
 },
 "nbformat": 4,
 "nbformat_minor": 2
}
