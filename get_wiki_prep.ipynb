{
 "cells": [
  {
   "cell_type": "code",
   "execution_count": 1,
   "metadata": {},
   "outputs": [],
   "source": [
    "from utils.syntax import PREPOSITIONS\n",
    "import re"
   ]
  },
  {
   "cell_type": "code",
   "execution_count": 10,
   "metadata": {},
   "outputs": [],
   "source": [
    "# Retain preposition tag\n",
    "edit_tag = r'(\\[-(.+?)-\\]|\\{\\+(.+?)\\+\\})'\n",
    "def retain_target(line):\n",
    "    is_target = False\n",
    "    matches = re.findall(edit_tag, line)\n",
    "    for edit, delete, insert in matches:\n",
    "        if delete in PREPOSITIONS or insert in PREPOSITIONS: is_target = True\n",
    "        elif delete: line = line.replace(edit, '')\n",
    "        elif insert: line = line.replace(edit, insert)\n",
    "    return line if is_target else None\n",
    "\n",
    "\n",
    "# Transform format [-for-] {+in+} >> [-for>>in+}\n",
    "replace_format = r'(\\[-([^-]+?)-\\] \\{\\+([^+]+?)\\+\\})'\n",
    "def transform_replace(line):\n",
    "    matches = re.findall(replace_format, line)\n",
    "    for edit, delete, insert in matches:\n",
    "        line = line.replace(edit, \"[-{}>>{}+}}\".format(delete, insert))\n",
    "    return line\n",
    "\n",
    "\n",
    "# One line one error\n",
    "new_edit_tag = r'(\\[-(.+?)-\\]|{\\+(.+?)\\+}|\\[-(.+?)>>(.+?)\\+})'\n",
    "def duplicate(line):\n",
    "    dups = []\n",
    "    matches = re.findall(new_edit_tag, line)\n",
    "    for i in range(len(matches)):\n",
    "        dup = line\n",
    "        for j, (edit, delete, insert, rd, ri) in enumerate(matches):\n",
    "            if   i == j: continue\n",
    "            elif delete: dup = dup.replace(edit, '')\n",
    "            elif insert: dup = dup.replace(edit, insert)\n",
    "            else:        dup = dup.replace(edit, ri)\n",
    "        dups.append(dup)\n",
    "    return dups"
   ]
  },
  {
   "cell_type": "code",
   "execution_count": null,
   "metadata": {},
   "outputs": [],
   "source": [
    "lines = open('../dataset/wikiedit.txt', 'r', encoding='utf8', errors='ignore').readlines()\n",
    "\n",
    "remain_lines = []\n",
    "for line in lines:\n",
    "    line = retain_target(line.strip())\n",
    "    if line:\n",
    "        line = transform_replace(line.replace('  ', ' '))\n",
    "        dups = duplicate(line)\n",
    "        remain_lines.extend(dups)"
   ]
  },
  {
   "cell_type": "code",
   "execution_count": 15,
   "metadata": {},
   "outputs": [],
   "source": [
    "# ws = open('wikedit_prep', 'w', encoding='utf8')\n",
    "# for line in remain_lines:\n",
    "#     print(line, file=ws)\n",
    "# ws.close()"
   ]
  },
  {
   "cell_type": "code",
   "execution_count": 19,
   "metadata": {},
   "outputs": [],
   "source": [
    "short_lines = list(filter(lambda line: len(line.split(' ')) <= 25, remain_lines))"
   ]
  },
  {
   "cell_type": "code",
   "execution_count": 21,
   "metadata": {},
   "outputs": [
    {
     "data": {
      "text/plain": [
       "['The film ends with plants growing inspite {+of+} predictions that there would be no food for sixty years .',\n",
       " 'Grandi experimented with extreme emotionalism [-with>>in+} some of his music , with chromaticism , ornament and affectation',\n",
       " 'The temple was constructed [-on>>by+} the orders of Nyuserre Ini , the sixth king of the fifth dynasty of Egypt .',\n",
       " 'The Palais {+under+} the stewardship of Louis Philippe II .',\n",
       " 'López was [-on-] one of the most highly touted players coming out of high school .',\n",
       " 'He was also a member of the team just missing out of a medal in 4th-place [-at>>in+} the 2004 team competition .',\n",
       " 'Cathays station is now manned during peak hours , following the introduction of a new automated ticket barrier system in Summer [-of-] 2007 .',\n",
       " 'Takizawa is the largest village in Japan by size {+of+} population .',\n",
       " 'It is located [-in>>at+} 1-chome , Nagatacho , Chiyoda Ward , Tokyo .',\n",
       " 'Smaller sites , apparently more residential in character , are scattered around the Great Houses in [-in-] Chaco canyon .']"
      ]
     },
     "execution_count": 21,
     "metadata": {},
     "output_type": "execute_result"
    }
   ],
   "source": [
    "short_lines[:10]"
   ]
  },
  {
   "cell_type": "code",
   "execution_count": null,
   "metadata": {},
   "outputs": [],
   "source": []
  }
 ],
 "metadata": {
  "kernelspec": {
   "display_name": "Python 3",
   "language": "python",
   "name": "python3"
  },
  "language_info": {
   "codemirror_mode": {
    "name": "ipython",
    "version": 3
   },
   "file_extension": ".py",
   "mimetype": "text/x-python",
   "name": "python",
   "nbconvert_exporter": "python",
   "pygments_lexer": "ipython3",
   "version": "3.5.2"
  }
 },
 "nbformat": 4,
 "nbformat_minor": 2
}
