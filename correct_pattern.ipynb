{
 "cells": [
  {
   "cell_type": "code",
   "execution_count": 1,
   "metadata": {},
   "outputs": [],
   "source": [
    "from collections import defaultdict, Counter\n",
    "from nltk.metrics.distance import edit_distance\n",
    "from operator import itemgetter\n",
    "from utils.syntax import *\n",
    "import numpy as np\n",
    "import spacy\n",
    "import json"
   ]
  },
  {
   "cell_type": "code",
   "execution_count": 2,
   "metadata": {},
   "outputs": [],
   "source": [
    "nlp = spacy.load('en_core_web_lg') # ('en')"
   ]
  },
  {
   "cell_type": "code",
   "execution_count": 3,
   "metadata": {},
   "outputs": [],
   "source": [
    "# Read patterns/sents json file\n",
    "with open('coca_sm.json', 'r', encoding='utf8') as fs:\n",
    "    BNC = json.load(fs)\n",
    "    patterns, sents, ngrams = BNC['patterns'], BNC['sents'], BNC['ngrams']"
   ]
  },
  {
   "cell_type": "code",
   "execution_count": 39,
   "metadata": {},
   "outputs": [],
   "source": [
    "def get_high_freq(counts):\n",
    "    values = list(counts.values())\n",
    "    total, avg, std = np.sum(values), np.mean(values), np.std(values)\n",
    "    # print(\"Total: {}, Avg: {}, Std: {}\".format(total, avg, std))\n",
    "\n",
    "    return dict([(ptn, count) for ptn, count in counts.items() if count > avg + std])\n",
    "\n",
    "\n",
    "def normalize_patterns(counts):\n",
    "    pass\n",
    "\n",
    "\n",
    "def truncate_k(counts, k=10):\n",
    "    return dict([(ptn, count) for ptn, count in counts.items() if count > k])\n",
    "\n",
    "\n",
    "def sort_dict(counts):\n",
    "    return sorted(counts.items(), key=itemgetter(1), reverse=True)"
   ]
  },
  {
   "cell_type": "code",
   "execution_count": 105,
   "metadata": {},
   "outputs": [],
   "source": [
    "def predict_ratio(ptn, patterns):\n",
    "    if ptn not in patterns: \n",
    "        return 0\n",
    "    \n",
    "    # 使用 ptn / first_ptn 百分比\n",
    "    return patterns[ptn] / patterns[max(patterns, key=patterns.get)]\n",
    "    \n",
    "    # if ptn == max(patterns, key=patterns.get): # 保證對\n",
    "    #    return 1\n",
    "    # return patterns[ptn] / sum(patterns.values())\n",
    "\n",
    "    \n",
    "CONFIDENT, UNCONFIDENT = 0.2, 0.1\n",
    "\n",
    "def categorize(ratio):\n",
    "    if ratio > CONFIDENT:     return 'right'\n",
    "    elif ratio < UNCONFIDENT: return 'wrong'\n",
    "    else:                     return 'not_sure'\n",
    "    \n",
    "    \n",
    "def get_template(ratio):\n",
    "    if ratio > CONFIDENT:     return '{{+{}+}}'\n",
    "    elif ratio < UNCONFIDENT: return '[-{}-]'\n",
    "    else:                     return '\\\\*{}*\\\\'\n",
    "    \n",
    "    \n",
    "\n",
    "def suggest_ptn(bad_ptn, ptns):\n",
    "    ptns = truncate_k(ptns, ptns[bad_ptn]) if bad_ptn in ptns else ptns # Optimize if exist\n",
    "\n",
    "    sim_ptns = sorted(ptns, key=ptns.get, reverse=True)\n",
    "    sim_ptns = sorted(sim_ptns, key=lambda ptn: edit_distance(bad_ptn.split(' '), ptn.split(' ')))\n",
    "    \n",
    "    print(sim_ptns[:10])\n",
    "    \n",
    "    return sim_ptns[0]\n",
    "\n",
    "\n",
    "def correct(line):\n",
    "    edits, suggestions = [], []\n",
    "    for tk in nlp(line):\n",
    "        if tk.tag_ in VERBS:\n",
    "            # 以下拆 def ?\n",
    "            ptn, ngram = dep_to_pattern(tk)\n",
    "    \n",
    "            ptns = patterns[tk.lemma_][tk.dep_]\n",
    "            high_ptns  = get_high_freq(ptns)\n",
    "            \n",
    "            ratio = predict_ratio(ptn, ptns)\n",
    "            print(tk.text, tk.dep_, ptn, ratio)\n",
    "        \n",
    "            if ratio < CONFIDENT:\n",
    "                top_ptn = suggest_ptn(ptn, ptns)\n",
    "                top_ngram = ngrams[tk.lemma_][tk.dep_][top_ptn][0]\n",
    "                suggestions.append({\n",
    "                    'category': categorize(ratio),\n",
    "                    'tk': tk.text,\n",
    "                    'bef': ptn,\n",
    "                    'aft': top_ptn,\n",
    "                    'ngram': top_ngram\n",
    "                })\n",
    "                \n",
    "            edits.append(get_template(ratio).format(tk.text))\n",
    "        else:\n",
    "            edits.append(tk.text)\n",
    "   \n",
    "    return ' '.join(edits), suggestions\n",
    "\n",
    "def main_process(content):\n",
    "    edit_lines, suggestions = [], []\n",
    "\n",
    "    for line in content.split('\\n'):\n",
    "        edit, sug = correct(line)\n",
    "        \n",
    "        edit_lines.append(edit)\n",
    "        suggestions.extend(sug)\n",
    "\n",
    "    return edit_lines, suggestions\n",
    " "
   ]
  },
  {
   "cell_type": "code",
   "execution_count": 106,
   "metadata": {},
   "outputs": [
    {
     "name": "stdout",
     "output_type": "stream",
     "text": [
      "want ROOT S V to-v 1.0\n",
      "discuss xcomp to V about O 0\n",
      "['to V O', 'to V with O', 'to V in O', 'to V O O', 'to V during O', 'to V to O', 'to V at O', 'to V', 'to V O with O', 'to V wh-cl']\n",
      "rely ROOT S V O 0.00856898029134533\n",
      "['S V on O', 'S V upon O', 'S V on O to-v', 'S V on cl', 'cl S V on O', 'V on O', 'S v V on O', 'v V on O', 'S V on O O', 'S S V on O']\n",
      "(['I {+want+} to [-discuss-] about my life . I [-rely-] my ability .'],\n",
      " [{'aft': 'to V O',\n",
      "   'bef': 'to V about O',\n",
      "   'category': 'wrong',\n",
      "   'ngram': 'to discuss concerns',\n",
      "   'tk': 'discuss'},\n",
      "  {'aft': 'S V on O',\n",
      "   'bef': 'S V O',\n",
      "   'category': 'wrong',\n",
      "   'ngram': 'court relies on definition',\n",
      "   'tk': 'rely'}])\n"
     ]
    }
   ],
   "source": [
    "if __name__ == '__main__':\n",
    "    from pprint import pprint\n",
    "    user_input = '''I want to discuss about my life. I rely my ability.'''\n",
    "    pprint(main_process(user_input))"
   ]
  },
  {
   "cell_type": "code",
   "execution_count": null,
   "metadata": {},
   "outputs": [
    {
     "name": "stderr",
     "output_type": "stream",
     "text": [
      " * Running on http://0.0.0.0:1314/ (Press CTRL+C to quit)\n",
      "140.114.77.132 - - [10/Jun/2018 22:15:10] \"\u001b[37mOPTIONS /correct HTTP/1.1\u001b[0m\" 200 -\n",
      "140.114.77.132 - - [10/Jun/2018 22:15:10] \"\u001b[37mPOST /correct HTTP/1.1\u001b[0m\" 200 -\n"
     ]
    },
    {
     "name": "stdout",
     "output_type": "stream",
     "text": [
      "I want to discuss about my life. I rely my ability. I am able to do something. I love to apple. I love to do something.\n",
      "want ROOT S V to-v 1.0\n",
      "discuss xcomp to V about O 0\n",
      "['to V O', 'to V with O', 'to V in O', 'to V O O', 'to V during O', 'to V to O', 'to V at O', 'to V', 'to V O with O', 'to V wh-cl']\n",
      "rely ROOT S V O 0.00856898029134533\n",
      "['S V on O', 'S V upon O', 'S V on O to-v', 'S V on cl', 'cl S V on O', 'V on O', 'S v V on O', 'v V on O', 'S V on O O', 'S S V on O']\n",
      "am ROOT S V 1.0\n",
      "do xcomp to V O 1.0\n",
      "love ROOT S V to O 0.003532736693358455\n",
      "['S V O', 'S V O O', 'S V O to O', 'S V to-v', 'S V cl', 'cl S V O', 'V O', 'S V', 'S V wh-cl', 'v S V O']\n",
      "love ROOT S V to-v 0.22774375883184172\n",
      "do xcomp to V O 1.0\n"
     ]
    },
    {
     "name": "stderr",
     "output_type": "stream",
     "text": [
      "140.114.77.132 - - [10/Jun/2018 22:15:25] \"\u001b[37mOPTIONS /correct HTTP/1.1\u001b[0m\" 200 -\n",
      "140.114.77.132 - - [10/Jun/2018 22:15:25] \"\u001b[37mPOST /correct HTTP/1.1\u001b[0m\" 200 -\n"
     ]
    },
    {
     "name": "stdout",
     "output_type": "stream",
     "text": [
      "I want to discuss about my life. I rely my ability. I am able to do something. I love to apple. I love to do something.\n",
      "want ROOT S V to-v 1.0\n",
      "discuss xcomp to V about O 0\n",
      "['to V O', 'to V with O', 'to V in O', 'to V O O', 'to V during O', 'to V to O', 'to V at O', 'to V', 'to V O with O', 'to V wh-cl']\n",
      "rely ROOT S V O 0.00856898029134533\n",
      "['S V on O', 'S V upon O', 'S V on O to-v', 'S V on cl', 'cl S V on O', 'V on O', 'S v V on O', 'v V on O', 'S V on O O', 'S S V on O']\n",
      "am ROOT S V 1.0\n",
      "do xcomp to V O 1.0\n",
      "love ROOT S V to O 0.003532736693358455\n",
      "['S V O', 'S V O O', 'S V O to O', 'S V to-v', 'S V cl', 'cl S V O', 'V O', 'S V', 'S V wh-cl', 'v S V O']\n",
      "love ROOT S V to-v 0.22774375883184172\n",
      "do xcomp to V O 1.0\n"
     ]
    },
    {
     "name": "stderr",
     "output_type": "stream",
     "text": [
      "140.114.77.132 - - [10/Jun/2018 22:15:34] \"\u001b[37mOPTIONS /correct HTTP/1.1\u001b[0m\" 200 -\n",
      "140.114.77.132 - - [10/Jun/2018 22:15:34] \"\u001b[37mPOST /correct HTTP/1.1\u001b[0m\" 200 -\n"
     ]
    },
    {
     "name": "stdout",
     "output_type": "stream",
     "text": [
      "I want to discuss about my life. I rely my ability. I am able to do something. I love to apple. I love to do something.\n",
      "asdf\n",
      "want ROOT S V to-v 1.0\n",
      "discuss xcomp to V about O 0\n",
      "['to V O', 'to V with O', 'to V in O', 'to V O O', 'to V during O', 'to V to O', 'to V at O', 'to V', 'to V O with O', 'to V wh-cl']\n",
      "rely ROOT S V O 0.00856898029134533\n",
      "['S V on O', 'S V upon O', 'S V on O to-v', 'S V on cl', 'cl S V on O', 'V on O', 'S v V on O', 'v V on O', 'S V on O O', 'S S V on O']\n",
      "am ROOT S V 1.0\n",
      "do xcomp to V O 1.0\n",
      "love ROOT S V to O 0.003532736693358455\n",
      "['S V O', 'S V O O', 'S V O to O', 'S V to-v', 'S V cl', 'cl S V O', 'V O', 'S V', 'S V wh-cl', 'v S V O']\n",
      "love ROOT S V to-v 0.22774375883184172\n",
      "do xcomp to V O 1.0\n"
     ]
    }
   ],
   "source": [
    "#!/usr/bin/env python\n",
    "# -*- coding: utf-8 -*-\n",
    "\n",
    "from flask import Flask, request, jsonify\n",
    "from flask_cors import CORS, cross_origin\n",
    "\n",
    "app = Flask(__name__)\n",
    "\n",
    "app.config['CORS_HEADERS'] = 'Content-Type'\n",
    "CORS(app)\n",
    "\n",
    "@app.route(\"/\")\n",
    "def hello():\n",
    "    return 'Hello World'\n",
    "\n",
    "# post /correct data: {content :}\n",
    "@app.route('/correct' , methods=['POST'])\n",
    "def start_correct():\n",
    "    request_data = request.get_json()\n",
    "    if not request_data: return jsonify({'edit': 'Should not be empty'})\n",
    "    \n",
    "    content = request_data['content']\n",
    "    print(content)\n",
    "    \n",
    "    edits, suggestions = main_process(content)\n",
    "    \n",
    "    return jsonify({\n",
    "        'edits': edits,\n",
    "        'suggestions': suggestions\n",
    "    })\n",
    "\n",
    "if __name__ == \"__main__\":\n",
    "    app.run(host='0.0.0.0', port=1314)"
   ]
  },
  {
   "cell_type": "code",
   "execution_count": 103,
   "metadata": {},
   "outputs": [
    {
     "name": "stdout",
     "output_type": "stream",
     "text": [
      "Counter({'V O': 649,\n",
      "         'V': 86,\n",
      "         'V O with O': 52,\n",
      "         'V O in O': 36,\n",
      "         'V with O': 25,\n",
      "         'V in O': 13,\n",
      "         'V O at O': 10,\n",
      "         'V O without O': 6,\n",
      "         'V O on O': 4,\n",
      "         'V O as O': 4,\n",
      "         'V O for O': 4,\n",
      "         'V for O': 2,\n",
      "         'V O along': 2,\n",
      "         'V O by O': 2,\n",
      "         'V v': 2,\n",
      "         'V O for': 1,\n",
      "         'V O from O': 1,\n",
      "         'V during O': 1,\n",
      "         'V before': 1,\n",
      "         'V O to v': 1,\n",
      "         'V O among O': 1,\n",
      "         'V among O': 1,\n",
      "         'V O under O': 1,\n",
      "         'V O during O': 1,\n",
      "         'V to O': 1,\n",
      "         'V at O': 1,\n",
      "         'V O as': 1})\n"
     ]
    }
   ],
   "source": [
    "prepositions = ['about', 'along', 'among', 'around', 'as', 'at', 'beside', 'besides', 'between', 'by', 'down', 'during', 'except', 'for', 'from', 'in', 'inside', 'into', 'of', 'off', 'on', 'onto', 'outside', 'over', 'through', 'to', 'toward', 'towards', 'under', 'underneath', 'until', 'up', 'upon', 'with', 'within', 'without']\n",
    "\n",
    "def norm_ptn(counts):\n",
    "    temp = Counter()\n",
    "    for ptn, ctn in counts.items():\n",
    "        if 'be V-ed' in ptn: print(ptn)\n",
    "            \n",
    "        ptn = 'V' + ptn.split('V')[1] # 去頭 (headword 之前的)\n",
    "        ptn = ' '.join(ptn.split(' ')[:4]) # max lenght: 4-gram\n",
    "        ptn = ptn.replace('V-ing', 'V').replace('V-ed', 'V') # 除了被動外，完成式和進行式改成原 V\n",
    "        ptn = ptn.replace('wh-cl', 'O').replace('cl', 'O').replace('to-v', 'O').replace('v-ing', 'O') # 將子句/動名詞/to-V 視為受詞\n",
    "        \n",
    "        # 第二個是介系詞則只往後再抓一個\n",
    "        ptn = ptn.split(' ')\n",
    "        if len(ptn) > 2:\n",
    "            if ptn[1] in prepositions: # V prep. _\n",
    "                ptn = ptn[:3]\n",
    "            elif ptn[2] == 'O' or ptn[2] not in prepositions: # V O O\n",
    "                ptn = ptn[:2]\n",
    "            else: # V O prep. O\n",
    "                ptn = ptn[:4]\n",
    "        ptn = ' '.join(ptn)\n",
    "        temp[ptn] += ctn\n",
    "    pprint(temp)\n",
    "\n",
    "norm_ptn(patterns['discuss']['xcomp'])"
   ]
  },
  {
   "cell_type": "code",
   "execution_count": 56,
   "metadata": {},
   "outputs": [
    {
     "ename": "IndexError",
     "evalue": "string index out of range",
     "output_type": "error",
     "traceback": [
      "\u001b[0;31m---------------------------------------------------------------------------\u001b[0m",
      "\u001b[0;31mIndexError\u001b[0m                                Traceback (most recent call last)",
      "\u001b[0;32m<ipython-input-56-40b58a0b9f12>\u001b[0m in \u001b[0;36m<module>\u001b[0;34m()\u001b[0m\n\u001b[1;32m      1\u001b[0m \u001b[0;31m# sort_dict(patterns['remind']['ROOT'])\u001b[0m\u001b[0;34m\u001b[0m\u001b[0;34m\u001b[0m\u001b[0m\n\u001b[0;32m----> 2\u001b[0;31m \u001b[0;34m'asdf'\u001b[0m\u001b[0;34m[\u001b[0m\u001b[0;36m5\u001b[0m\u001b[0;34m]\u001b[0m\u001b[0;34m\u001b[0m\u001b[0m\n\u001b[0m",
      "\u001b[0;31mIndexError\u001b[0m: string index out of range"
     ]
    }
   ],
   "source": [
    "# sort_dict(patterns['remind']['ROOT'])"
   ]
  },
  {
   "cell_type": "code",
   "execution_count": null,
   "metadata": {},
   "outputs": [],
   "source": []
  }
 ],
 "metadata": {
  "kernelspec": {
   "display_name": "Python 3",
   "language": "python",
   "name": "python3"
  },
  "language_info": {
   "codemirror_mode": {
    "name": "ipython",
    "version": 3
   },
   "file_extension": ".py",
   "mimetype": "text/x-python",
   "name": "python",
   "nbconvert_exporter": "python",
   "pygments_lexer": "ipython3",
   "version": "3.5.2"
  }
 },
 "nbformat": 4,
 "nbformat_minor": 2
}
