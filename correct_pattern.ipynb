{
 "cells": [
  {
   "cell_type": "code",
   "execution_count": 1,
   "metadata": {},
   "outputs": [],
   "source": [
    "from collections import defaultdict, Counter\n",
    "from operator import itemgetter\n",
    "from utils.syntax import *\n",
    "import numpy as np\n",
    "import spacy\n",
    "import json"
   ]
  },
  {
   "cell_type": "code",
   "execution_count": 2,
   "metadata": {},
   "outputs": [],
   "source": [
    "nlp = spacy.load('en_core_web_lg') # ('en')"
   ]
  },
  {
   "cell_type": "code",
   "execution_count": 3,
   "metadata": {},
   "outputs": [],
   "source": [
    "# Read patterns/sents json file\n",
    "with open('bnc.json', 'r', encoding='utf8') as fs:\n",
    "    BNC = json.load(fs)\n",
    "    patterns, sents, ngrams = BNC['patterns'], BNC['sents'], BNC['ngrams']"
   ]
  },
  {
   "cell_type": "code",
   "execution_count": 35,
   "metadata": {},
   "outputs": [],
   "source": [
    "def get_high_freq(counts):\n",
    "    values = list(counts.values())\n",
    "    total, avg, std = np.sum(values), np.mean(values), np.std(values)\n",
    "    # print(\"Total: {}, Avg: {}, Std: {}\".format(total, avg, std))\n",
    "\n",
    "    return dict([(ptn, count) for ptn, count in counts.items() if count > avg + std])\n",
    "\n",
    "def truncate_k(counts, k=10):\n",
    "    return dict([(ptn, count) for ptn, count in counts.items() if count >= k])\n",
    "\n",
    "def sort_dict(counts):\n",
    "    return sorted(counts.items(), key=itemgetter(1), reverse=True)"
   ]
  },
  {
   "cell_type": "code",
   "execution_count": 36,
   "metadata": {},
   "outputs": [],
   "source": [
    "def predict_ratio(ptn, patterns):\n",
    "    if ptn not in patterns: \n",
    "        return 0\n",
    "    if ptn == max(patterns, key=patterns.get): # 保證對\n",
    "        return 1\n",
    "    return patterns[ptn] / sum(patterns.values())\n",
    "\n",
    "\n",
    "def categorize(ratio):\n",
    "    if ratio > 0.5:\n",
    "        return 'right', '{{+{}+}}'\n",
    "    elif ratio < 0.1:\n",
    "        return 'wrong', '[-{}-]'\n",
    "    else:\n",
    "        return 'unsure', '\\\\*{}*\\\\'\n",
    "    \n",
    "    \n",
    "def correct(content):\n",
    "    edits, suggestions = [], []\n",
    "    for tk in nlp(content):\n",
    "        if tk.tag_ in VERBS:\n",
    "            ptn, ngram = dep_to_pattern(tk)\n",
    "    \n",
    "            high_ptns = get_high_freq(patterns[tk.lemma_][tk.dep_])\n",
    "            \n",
    "            ratio = predict_ratio(ptn, high_ptns)\n",
    "            \n",
    "            category, template = categorize(ratio)\n",
    "            \n",
    "            if category in ['wrong', 'unsure']:\n",
    "                top_ptn = max(high_ptns, key=high_ptns.get)\n",
    "                ngram = ngrams[tk.lemma_][tk.dep_][top_ptn][0]\n",
    "                suggestions.append({\n",
    "                    'category': category,\n",
    "                    'tk': tk.text,\n",
    "                    'bef': ptn,\n",
    "                    'aft': top_ptn,\n",
    "                    'ngram': ngram\n",
    "                })\n",
    "                \n",
    "            edits.append(template.format(tk.text))\n",
    "        else:\n",
    "            edits.append(tk.text)\n",
    "   \n",
    "    return ' '.join(edits), suggestions"
   ]
  },
  {
   "cell_type": "code",
   "execution_count": 37,
   "metadata": {},
   "outputs": [
    {
     "name": "stdout",
     "output_type": "stream",
     "text": [
      "('I {+want+} to [-discuss-] about my life . I \\\\*rely*\\\\ my ability .', [{'ngram': 'to discuss difficulties', 'tk': 'discuss', 'bef': 'to V about O', 'category': 'wrong', 'aft': 'to V O'}, {'ngram': 'organisations rely on volunteers', 'tk': 'rely', 'bef': 'S V O', 'category': 'unsure', 'aft': 'S V on O'}])\n"
     ]
    }
   ],
   "source": [
    "if __name__ == '__main__':\n",
    "    user_input = '''I want to discuss about my life. I rely my ability.'''\n",
    "    print(correct(user_input))"
   ]
  },
  {
   "cell_type": "code",
   "execution_count": null,
   "metadata": {},
   "outputs": [
    {
     "name": "stderr",
     "output_type": "stream",
     "text": [
      " * Running on http://0.0.0.0:1314/ (Press CTRL+C to quit)\n",
      "140.114.77.132 - - [07/Jun/2018 17:54:36] \"\u001b[37mOPTIONS /correct HTTP/1.1\u001b[0m\" 200 -\n",
      "140.114.77.132 - - [07/Jun/2018 17:54:36] \"\u001b[37mPOST /correct HTTP/1.1\u001b[0m\" 200 -\n"
     ]
    },
    {
     "name": "stdout",
     "output_type": "stream",
     "text": [
      "I want to discuss about my life. I rely my ability.\n"
     ]
    }
   ],
   "source": [
    "#!/usr/bin/env python\n",
    "# -*- coding: utf-8 -*-\n",
    "\n",
    "from flask import Flask, request, jsonify\n",
    "from flask_cors import CORS, cross_origin\n",
    "\n",
    "app = Flask(__name__)\n",
    "CORS(app)\n",
    "app.config['CORS_HEADERS'] = 'Content-Type'\n",
    "\n",
    "\n",
    "# post /correct data: {content :}\n",
    "@app.route('/correct' , methods=['POST'])\n",
    "def start_correct():\n",
    "    request_data = request.get_json()\n",
    "    \n",
    "    if not request_data: return jsonify({'edit': 'Should not be empty'})\n",
    "    content = request_data['content']\n",
    "    print(content)\n",
    "    \n",
    "    edit, suggestions = correct(content)\n",
    "    \n",
    "    return jsonify({\n",
    "        'edit': edit,\n",
    "        'suggestions': suggestions\n",
    "    })\n",
    "\n",
    "if __name__ == \"__main__\":\n",
    "    app.run(host='0.0.0.0', port=1314)"
   ]
  },
  {
   "cell_type": "code",
   "execution_count": 27,
   "metadata": {},
   "outputs": [
    {
     "data": {
      "text/plain": [
       "[\"people who were able to make their own fun , did n't rely store-bought fun .\",\n",
       " 'they did not rely mighty sinews and glittering steel as a true warrior should .',\n",
       " 'this mechanism does not rely a disciplinary code nor on a court-like body .']"
      ]
     },
     "execution_count": 27,
     "metadata": {},
     "output_type": "execute_result"
    }
   ],
   "source": [
    "sents['rely']['ROOT']['S v V O']"
   ]
  },
  {
   "cell_type": "code",
   "execution_count": 20,
   "metadata": {},
   "outputs": [
    {
     "data": {
      "text/plain": [
       "[('S V on O', 214),\n",
       " ('S V O', 96),\n",
       " ('S V upon O', 37),\n",
       " ('S be V-ing on O', 26),\n",
       " ('S V on O to-v', 18),\n",
       " ('S V on cl', 12),\n",
       " ('S V cl', 11),\n",
       " ('S V O to-v', 11),\n",
       " ('v V on O', 9),\n",
       " ('cl S V on O', 8),\n",
       " ('V on O', 8),\n",
       " ('S V for O', 7),\n",
       " ('in O S V on O', 6),\n",
       " ('S V', 6),\n",
       " ('S v V on O', 6),\n",
       " ('S V on O for O', 6),\n",
       " ('like O S V on O', 5),\n",
       " ('V O', 5),\n",
       " ('S V on O O', 5),\n",
       " ('v V O', 4),\n",
       " ('S V O for O', 4),\n",
       " ('S V upon O to-v', 3),\n",
       " ('cl S V upon O', 3),\n",
       " ('for O S V on O', 3),\n",
       " ('S v V O', 3),\n",
       " ('S S V on O', 3),\n",
       " ('cl S V O', 3),\n",
       " ('in O S V O', 3),\n",
       " ('be S V-ing on O', 3),\n",
       " ('S V on O cl', 3),\n",
       " ('v S V O', 3),\n",
       " ('S for O V on O', 3),\n",
       " ('of O S V on O', 2),\n",
       " ('S V on O with O', 2),\n",
       " ('S V to-v', 2),\n",
       " ('S V O in O', 2),\n",
       " ('S V on', 2),\n",
       " ('S in O V on O', 2),\n",
       " ('S V upon cl', 2),\n",
       " ('at O S V on O', 2),\n",
       " ('S V on for O', 2),\n",
       " ('S V O cl', 2),\n",
       " ('cl V on O', 2),\n",
       " ('S V for O on O', 2),\n",
       " ('cl S V O to-v', 2),\n",
       " ('in O V on O', 2),\n",
       " ('like O S V on O for O', 1),\n",
       " ('S V on O for', 1),\n",
       " ('V in O', 1),\n",
       " ('S V on if O', 1),\n",
       " ('S V on O in O O', 1),\n",
       " ('S be V-ing on wh-cl', 1),\n",
       " ('S V with O', 1),\n",
       " ('because cl S V O', 1),\n",
       " ('of cl S V O to-v', 1),\n",
       " ('at O S V on', 1),\n",
       " ('without O S V on O', 1),\n",
       " ('S v-ing V on cl', 1),\n",
       " ('S V on O into O', 1),\n",
       " ('in cl S V on O', 1),\n",
       " ('S in O V upon O', 1),\n",
       " ('because cl O S V upon O', 1),\n",
       " ('S V on O by cl', 1),\n",
       " ('S V on O to', 1),\n",
       " ('in S V on O', 1),\n",
       " ('upon O S V on O to-v', 1),\n",
       " ('S because cl O V O', 1),\n",
       " ('S V for O upon O', 1),\n",
       " ('be in O V-ing on O', 1),\n",
       " ('in O cl V on O of cl', 1),\n",
       " ('v-ing S V O', 1),\n",
       " ('S V upon', 1),\n",
       " ('in O S S be V-ing on O', 1),\n",
       " ('S be V-ing upon O', 1),\n",
       " ('S be V-ing on O from O for O v-ing', 1),\n",
       " ('cl on O S V', 1),\n",
       " ('V-ing on O at O', 1),\n",
       " ('S V in O on O', 1),\n",
       " ('on O S V', 1),\n",
       " ('for O S V O', 1),\n",
       " ('cl S V cl', 1),\n",
       " ('be V-ing on O to O', 1),\n",
       " ('S have be V-ing on O O for cl', 1),\n",
       " ('in O V O', 1),\n",
       " ('S have be V-ing on O v-ing O', 1),\n",
       " ('S V on O at O', 1),\n",
       " ('S V on wh-cl', 1),\n",
       " ('in O S v V upon O', 1),\n",
       " ('cl S V', 1),\n",
       " ('v S V upon O to-v', 1),\n",
       " ('in O S V upon O', 1),\n",
       " ('as O S V O', 1),\n",
       " ('to O S V on cl', 1),\n",
       " ('in O S V on O to-v', 1),\n",
       " ('for O in O S V on O for cl', 1),\n",
       " ('V on cl', 1),\n",
       " ('S to V upon O', 1),\n",
       " ('until O S V on O', 1),\n",
       " ('S S V in', 1),\n",
       " ('S V on O as cl', 1),\n",
       " ('V upon O', 1),\n",
       " ('V on O since O', 1),\n",
       " ('with O S V O', 1),\n",
       " ('S V on out', 1),\n",
       " ('S V on on O', 1),\n",
       " ('like O S V for O', 1),\n",
       " ('O v S V cl', 1),\n",
       " ('for cl S V on O', 1),\n",
       " ('S V S', 1),\n",
       " ('S V-ing on O', 1),\n",
       " ('cl be V-ing upon O', 1),\n",
       " ('wh-cl S be V-ing on O for O', 1),\n",
       " ('S V of O', 1),\n",
       " ('S of O V on O', 1),\n",
       " ('S V from O', 1),\n",
       " ('on wh-cl v S V', 1),\n",
       " ('S to V O', 1),\n",
       " ('S of O V upon cl', 1),\n",
       " ('S to V on O', 1),\n",
       " ('S V on O in O', 1),\n",
       " ('cl V O as', 1),\n",
       " ('under O S V on v', 1),\n",
       " ('v V on O with O', 1),\n",
       " ('S V to O on O', 1),\n",
       " ('S have be V-ing to-v', 1),\n",
       " ('v S V', 1),\n",
       " ('like O S V O', 1),\n",
       " ('V on O in O', 1),\n",
       " ('cl S V on', 1),\n",
       " ('as O S V on cl', 1),\n",
       " ('by O S be V-ing on O', 1),\n",
       " ('as O V on O', 1),\n",
       " ('by O S V cl', 1),\n",
       " ('S v V O to-v', 1),\n",
       " ('V O because cl O', 1),\n",
       " ('for O S be V-ing on O to-v', 1),\n",
       " ('at O S V O', 1),\n",
       " ('S V on O as O', 1),\n",
       " ('v V on O cl', 1),\n",
       " ('for O S V upon O', 1),\n",
       " ('S be V-ing on O on O', 1),\n",
       " ('V-ing on O for O without cl', 1),\n",
       " ('in O S V v-ed on v-ed of O', 1),\n",
       " ('be V-ing on O', 1),\n",
       " ('S V on O along', 1),\n",
       " ('S v unlike O V on cl', 1),\n",
       " ('S V upon O as', 1),\n",
       " ('S V in O', 1),\n",
       " ('v S V into O', 1),\n",
       " ('S be V-ing on O v-ing', 1),\n",
       " ('S be V-ing on O to-v', 1),\n",
       " ('S V on O at cl', 1),\n",
       " ('S V on O like O with O', 1),\n",
       " ('cl v V on O', 1),\n",
       " ('S on O V on O', 1),\n",
       " ('as in O S V O with O', 1),\n",
       " ('v V O to-v', 1),\n",
       " ('at O V on O', 1),\n",
       " ('in O as S V on O', 1),\n",
       " ('in O S be V-ing on O', 1),\n",
       " ('S V at O', 1),\n",
       " ('like O S V on O with cl', 1),\n",
       " ('in cl S V on wh-cl', 1)]"
      ]
     },
     "execution_count": 20,
     "metadata": {},
     "output_type": "execute_result"
    }
   ],
   "source": [
    "a = Counter()\n",
    "for pat, count in patterns['rely']['ROOT'].items():\n",
    "    a[pat] = count\n",
    "a.most_common()"
   ]
  },
  {
   "cell_type": "code",
   "execution_count": 13,
   "metadata": {},
   "outputs": [
    {
     "data": {
      "text/plain": [
       "{'V on O': ['the picture formed relies on the large barbs to catch the eye , and move it on to the smaller tetras .',\n",
       "  \"one of the major differences between speaking and writing is speaking relies more on the hearer 's memory than writing does .\"]}"
      ]
     },
     "execution_count": 13,
     "metadata": {},
     "output_type": "execute_result"
    }
   ],
   "source": [
    "sents['rely']['dobj']"
   ]
  },
  {
   "cell_type": "code",
   "execution_count": null,
   "metadata": {},
   "outputs": [],
   "source": []
  }
 ],
 "metadata": {
  "kernelspec": {
   "display_name": "Python 3",
   "language": "python",
   "name": "python3"
  },
  "language_info": {
   "codemirror_mode": {
    "name": "ipython",
    "version": 3
   },
   "file_extension": ".py",
   "mimetype": "text/x-python",
   "name": "python",
   "nbconvert_exporter": "python",
   "pygments_lexer": "ipython3",
   "version": "3.5.2"
  }
 },
 "nbformat": 4,
 "nbformat_minor": 2
}
