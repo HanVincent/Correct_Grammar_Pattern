{
 "cells": [
  {
   "cell_type": "code",
   "execution_count": null,
   "metadata": {},
   "outputs": [],
   "source": []
  },
  {
   "cell_type": "code",
   "execution_count": null,
   "metadata": {},
   "outputs": [],
   "source": []
  },
  {
   "cell_type": "code",
   "execution_count": null,
   "metadata": {},
   "outputs": [],
   "source": [
    "def get_high_freq(counts):\n",
    "    values = list(counts.values())\n",
    "    total, avg, std = np.sum(values), np.mean(values), np.std(values)\n",
    "#     print(\"Total: {}, Avg: {}, Std: {}\".format(total, avg, std))\n",
    "\n",
    "    return dict([(ngram, count) for ngram, count in counts.items() \n",
    "                 if count > avg + std])\n",
    "\n",
    "def sort_dict(counts):\n",
    "    return sorted(counts.items(), key=itemgetter(1), reverse=True)"
   ]
  }
 ],
 "metadata": {
  "kernelspec": {
   "display_name": "Python 3",
   "language": "python",
   "name": "python3"
  },
  "language_info": {
   "codemirror_mode": {
    "name": "ipython",
    "version": 3
   },
   "file_extension": ".py",
   "mimetype": "text/x-python",
   "name": "python",
   "nbconvert_exporter": "python",
   "pygments_lexer": "ipython3",
   "version": "3.5.2"
  }
 },
 "nbformat": 4,
 "nbformat_minor": 2
}
