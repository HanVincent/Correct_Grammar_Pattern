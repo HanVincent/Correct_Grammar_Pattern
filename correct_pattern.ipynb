{
 "cells": [
  {
   "cell_type": "code",
   "execution_count": 1,
   "metadata": {},
   "outputs": [],
   "source": [
    "from collections import defaultdict, Counter\n",
    "from nltk.metrics.distance import edit_distance\n",
    "from operator import itemgetter\n",
    "from utils.syntax import *\n",
    "import numpy as np\n",
    "import spacy\n",
    "import json"
   ]
  },
  {
   "cell_type": "code",
   "execution_count": 2,
   "metadata": {},
   "outputs": [],
   "source": [
    "nlp = spacy.load('en_core_web_lg') # ('en')"
   ]
  },
  {
   "cell_type": "code",
   "execution_count": 3,
   "metadata": {},
   "outputs": [],
   "source": [
    "# Read patterns/sents json file\n",
    "with open('coca.json', 'r', encoding='utf8') as fs:\n",
    "    BNC = json.load(fs)\n",
    "    patterns, sents, ngrams = BNC['patterns'], BNC['sents'], BNC['ngrams']"
   ]
  },
  {
   "cell_type": "code",
   "execution_count": 8,
   "metadata": {},
   "outputs": [],
   "source": [
    "prepositions = ['about', 'across', 'against', 'along', 'among', 'around', 'as', 'at',\n",
    "                'beside', 'besides', 'between', 'by', 'down', 'during', \n",
    "                'except', 'for', 'from', 'in', 'inside', 'into', 'of', 'off', \n",
    "                'on', 'onto', 'outside', 'over', 'through', 'to', 'toward', 'towards', \n",
    "                'under', 'underneath', 'until', 'up', 'upon', 'with', 'within', 'without']\n",
    "# not inlcuded: above / behind / beneath /beyond / below ... \n",
    "\n",
    "def normalize(ptn):\n",
    "    if 'be V-ed' in ptn: print(ptn) # 先不管被動用法\n",
    "            \n",
    "    ptn = 'V' + ptn.split('V')[1] # 去頭 (headword 之前的)\n",
    "    ptn = ' '.join(ptn.split(' ')[:4]) # max lenght: 4-gram\n",
    "    ptn = ptn.replace('V-ing', 'V').replace('V-ed', 'V') # 除了被動外，完成式和進行式改成原 V\n",
    "    # ptn = ptn.replace('wh-cl', 'O').replace('cl', 'O') # cl / wh-cl -> O\n",
    "    # ptn = ptn.replace('to-v', 'ADJ').replace('v-ing', 'ADJ') # v-ing / to-v -> ?\n",
    "        \n",
    "    # if / which / who / whom\n",
    "    # TODO: 還要修改條件？\n",
    "    ptn = ptn.split(' ')\n",
    "    if len(ptn) > 2:\n",
    "        if ptn[1] in prepositions: # V prep. _\n",
    "            ptn = ptn[:3]\n",
    "        elif ptn[1] != 'O': # V before O\n",
    "            ptn = ptn[:1]\n",
    "        elif ptn[2] in prepositions: # V O prep. O\n",
    "            ptn = ptn[:4]\n",
    "        else: # V O O / V O not_prep\n",
    "            ptn = ptn[:2]\n",
    "    return ' '.join(ptn)\n",
    "\n",
    "\n",
    "norm_patterns = defaultdict(lambda: defaultdict(Counter))\n",
    "norm_ngrams = defaultdict(lambda: defaultdict(lambda: defaultdict(lambda: [])))\n",
    "norm_sents = defaultdict(lambda: defaultdict(lambda: defaultdict(lambda: [])))\n",
    "\n",
    "for headword in patterns:\n",
    "    for dep in patterns[headword]:\n",
    "        for ptn in patterns[headword][dep]:\n",
    "            norm_patterns[headword][dep][normalize(ptn)] += patterns[headword][dep][ptn]\n",
    "            norm_ngrams[headword][dep][normalize(ptn)].extend(ngrams[headword][dep][ptn])\n",
    "            norm_sents[headword][dep][normalize(ptn)].extend(sents[headword][dep][ptn])"
   ]
  },
  {
   "cell_type": "code",
   "execution_count": 9,
   "metadata": {},
   "outputs": [],
   "source": [
    "def get_high_freq(counts):\n",
    "    values = list(counts.values())\n",
    "    total, avg, std = np.sum(values), np.mean(values), np.std(values)\n",
    "    # print(\"Total: {}, Avg: {}, Std: {}\".format(total, avg, std))\n",
    "\n",
    "    return dict([(ptn, count) for ptn, count in counts.items() if count > avg + std])\n",
    "\n",
    "\n",
    "def truncate_k(counts, k=10):\n",
    "    return dict([(ptn, count) for ptn, count in counts.items() if count > k])\n",
    "\n",
    "\n",
    "def sort_dict(counts):\n",
    "    return sorted(counts.items(), key=itemgetter(1), reverse=True)"
   ]
  },
  {
   "cell_type": "code",
   "execution_count": 10,
   "metadata": {},
   "outputs": [],
   "source": [
    "def predict_ratio(ptn, patterns):\n",
    "    if ptn not in patterns: \n",
    "        return 0\n",
    "    \n",
    "    # 使用 ptn / first_ptn 百分比\n",
    "    return patterns[ptn] / patterns[max(patterns, key=patterns.get)]\n",
    "    \n",
    "    # if ptn == max(patterns, key=patterns.get): # 保證對\n",
    "    #    return 1\n",
    "    # return patterns[ptn] / sum(patterns.values())\n",
    "\n",
    "    \n",
    "CONFIDENT, UNCONFIDENT = 0.2, 0.1\n",
    "\n",
    "def categorize(ratio):\n",
    "    if ratio > CONFIDENT:     return 'right'\n",
    "    elif ratio < UNCONFIDENT: return 'wrong'\n",
    "    else:                     return 'not_sure'\n",
    "    \n",
    "    \n",
    "def get_template(ratio):\n",
    "    if ratio > CONFIDENT:     return '{{+{}+}}'\n",
    "    elif ratio < UNCONFIDENT: return '[-{}-]'\n",
    "    else:                     return '\\\\*{}*\\\\'\n",
    "    \n",
    "    \n",
    "def suggest_ptn(bad_ptn, ptns):\n",
    "    ptns = truncate_k(ptns, ptns[bad_ptn]) if bad_ptn in ptns else ptns # Optimize if exist\n",
    "\n",
    "    sim_ptns = sorted(ptns, key=ptns.get, reverse=True)\n",
    "    sim_ptns = sorted(sim_ptns, key=lambda ptn: edit_distance(bad_ptn.split(' '), ptn.split(' ')))\n",
    "    \n",
    "    print(sim_ptns[:5])\n",
    "    \n",
    "    return sim_ptns[0]\n",
    "\n",
    "\n",
    "def suggest_ngram(ngram, ngrams):\n",
    "    ngrams = filter(lambda ng: '@@@' not in ng, set(ngrams)) # workaround\n",
    "    ngram = ngram.lower()\n",
    "\n",
    "    sim_ngrams = sorted(ngrams, key=lambda ng: edit_distance(ngram.split(' '), ng.split(' ')))\n",
    "    \n",
    "    print(sim_ngrams[:5])\n",
    "    \n",
    "    return sim_ngrams[0]\n",
    "\n",
    "\n",
    "def correct(line):\n",
    "    edits, suggestions = [], []\n",
    "    for tk in nlp(line):\n",
    "        if tk.tag_ in VERBS:\n",
    "            # 以下拆 def ?\n",
    "            ptn, ngram = dep_to_pattern(tk)\n",
    "\n",
    "            ptn = normalize(ptn)\n",
    "            ptns = norm_patterns[tk.lemma_][tk.dep_]\n",
    "            # high_ptns  = get_high_freq(ptns)\n",
    "            \n",
    "            ratio = predict_ratio(ptn, ptns)\n",
    "            print(tk.text, tk.dep_, ptn, ratio)\n",
    "        \n",
    "            if ratio < CONFIDENT:\n",
    "                top_ptn = suggest_ptn(ptn, ptns)\n",
    "                top_ngram = suggest_ngram(ngram, norm_ngrams[tk.lemma_][tk.dep_][top_ptn])\n",
    "                suggestions.append({\n",
    "                    'category': categorize(ratio),\n",
    "                    'tk': tk.text,\n",
    "                    'bef': ptn,\n",
    "                    'aft': top_ptn,\n",
    "                    'ngram': top_ngram\n",
    "                })\n",
    "                \n",
    "            edits.append(get_template(ratio).format(tk.text))\n",
    "        else:\n",
    "            edits.append(tk.text)\n",
    "   \n",
    "    return ' '.join(edits), suggestions\n",
    "\n",
    "def main_process(content):\n",
    "    edit_lines, suggestions = [], []\n",
    "\n",
    "    for line in content.split('\\n'):\n",
    "        edit, sug = correct(line)\n",
    "        \n",
    "        edit_lines.append(edit)\n",
    "        suggestions.extend(sug)\n",
    "\n",
    "    return edit_lines, suggestions\n",
    " "
   ]
  },
  {
   "cell_type": "code",
   "execution_count": 11,
   "metadata": {},
   "outputs": [
    {
     "name": "stdout",
     "output_type": "stream",
     "text": [
      "speak ROOT V O 0.45176897490172363\n",
      "do conj V O 1.0\n",
      "response advcl V O 0\n",
      "[]\n"
     ]
    },
    {
     "ename": "IndexError",
     "evalue": "list index out of range",
     "output_type": "error",
     "traceback": [
      "\u001b[0;31m---------------------------------------------------------------------------\u001b[0m",
      "\u001b[0;31mIndexError\u001b[0m                                Traceback (most recent call last)",
      "\u001b[0;32m<ipython-input-11-7e3326b1ea9e>\u001b[0m in \u001b[0;36m<module>\u001b[0;34m()\u001b[0m\n\u001b[1;32m      3\u001b[0m     \u001b[0muser_input\u001b[0m \u001b[0;34m=\u001b[0m \u001b[0;34m'''I want to discuss about my life. I rely my ability.'''\u001b[0m\u001b[0;34m\u001b[0m\u001b[0m\n\u001b[1;32m      4\u001b[0m     \u001b[0muser_input\u001b[0m \u001b[0;34m=\u001b[0m \u001b[0;34m'can you speak something or do anything to response me?'\u001b[0m\u001b[0;34m\u001b[0m\u001b[0m\n\u001b[0;32m----> 5\u001b[0;31m     \u001b[0mpprint\u001b[0m\u001b[0;34m(\u001b[0m\u001b[0mmain_process\u001b[0m\u001b[0;34m(\u001b[0m\u001b[0muser_input\u001b[0m\u001b[0;34m)\u001b[0m\u001b[0;34m)\u001b[0m\u001b[0;34m\u001b[0m\u001b[0m\n\u001b[0m",
      "\u001b[0;32m<ipython-input-10-e21a89e14073>\u001b[0m in \u001b[0;36mmain_process\u001b[0;34m(content)\u001b[0m\n\u001b[1;32m     82\u001b[0m \u001b[0;34m\u001b[0m\u001b[0m\n\u001b[1;32m     83\u001b[0m     \u001b[0;32mfor\u001b[0m \u001b[0mline\u001b[0m \u001b[0;32min\u001b[0m \u001b[0mcontent\u001b[0m\u001b[0;34m.\u001b[0m\u001b[0msplit\u001b[0m\u001b[0;34m(\u001b[0m\u001b[0;34m'\\n'\u001b[0m\u001b[0;34m)\u001b[0m\u001b[0;34m:\u001b[0m\u001b[0;34m\u001b[0m\u001b[0m\n\u001b[0;32m---> 84\u001b[0;31m         \u001b[0medit\u001b[0m\u001b[0;34m,\u001b[0m \u001b[0msug\u001b[0m \u001b[0;34m=\u001b[0m \u001b[0mcorrect\u001b[0m\u001b[0;34m(\u001b[0m\u001b[0mline\u001b[0m\u001b[0;34m)\u001b[0m\u001b[0;34m\u001b[0m\u001b[0m\n\u001b[0m\u001b[1;32m     85\u001b[0m \u001b[0;34m\u001b[0m\u001b[0m\n\u001b[1;32m     86\u001b[0m         \u001b[0medit_lines\u001b[0m\u001b[0;34m.\u001b[0m\u001b[0mappend\u001b[0m\u001b[0;34m(\u001b[0m\u001b[0medit\u001b[0m\u001b[0;34m)\u001b[0m\u001b[0;34m\u001b[0m\u001b[0m\n",
      "\u001b[0;32m<ipython-input-10-e21a89e14073>\u001b[0m in \u001b[0;36mcorrect\u001b[0;34m(line)\u001b[0m\n\u001b[1;32m     62\u001b[0m \u001b[0;34m\u001b[0m\u001b[0m\n\u001b[1;32m     63\u001b[0m             \u001b[0;32mif\u001b[0m \u001b[0mratio\u001b[0m \u001b[0;34m<\u001b[0m \u001b[0mCONFIDENT\u001b[0m\u001b[0;34m:\u001b[0m\u001b[0;34m\u001b[0m\u001b[0m\n\u001b[0;32m---> 64\u001b[0;31m                 \u001b[0mtop_ptn\u001b[0m \u001b[0;34m=\u001b[0m \u001b[0msuggest_ptn\u001b[0m\u001b[0;34m(\u001b[0m\u001b[0mptn\u001b[0m\u001b[0;34m,\u001b[0m \u001b[0mptns\u001b[0m\u001b[0;34m)\u001b[0m\u001b[0;34m\u001b[0m\u001b[0m\n\u001b[0m\u001b[1;32m     65\u001b[0m                 \u001b[0mtop_ngram\u001b[0m \u001b[0;34m=\u001b[0m \u001b[0msuggest_ngram\u001b[0m\u001b[0;34m(\u001b[0m\u001b[0mngram\u001b[0m\u001b[0;34m,\u001b[0m \u001b[0mnorm_ngrams\u001b[0m\u001b[0;34m[\u001b[0m\u001b[0mtk\u001b[0m\u001b[0;34m.\u001b[0m\u001b[0mlemma_\u001b[0m\u001b[0;34m]\u001b[0m\u001b[0;34m[\u001b[0m\u001b[0mtk\u001b[0m\u001b[0;34m.\u001b[0m\u001b[0mdep_\u001b[0m\u001b[0;34m]\u001b[0m\u001b[0;34m[\u001b[0m\u001b[0mtop_ptn\u001b[0m\u001b[0;34m]\u001b[0m\u001b[0;34m)\u001b[0m\u001b[0;34m\u001b[0m\u001b[0m\n\u001b[1;32m     66\u001b[0m                 suggestions.append({\n",
      "\u001b[0;32m<ipython-input-10-e21a89e14073>\u001b[0m in \u001b[0;36msuggest_ptn\u001b[0;34m(bad_ptn, ptns)\u001b[0m\n\u001b[1;32m     33\u001b[0m     \u001b[0mprint\u001b[0m\u001b[0;34m(\u001b[0m\u001b[0msim_ptns\u001b[0m\u001b[0;34m[\u001b[0m\u001b[0;34m:\u001b[0m\u001b[0;36m5\u001b[0m\u001b[0;34m]\u001b[0m\u001b[0;34m)\u001b[0m\u001b[0;34m\u001b[0m\u001b[0m\n\u001b[1;32m     34\u001b[0m \u001b[0;34m\u001b[0m\u001b[0m\n\u001b[0;32m---> 35\u001b[0;31m     \u001b[0;32mreturn\u001b[0m \u001b[0msim_ptns\u001b[0m\u001b[0;34m[\u001b[0m\u001b[0;36m0\u001b[0m\u001b[0;34m]\u001b[0m\u001b[0;34m\u001b[0m\u001b[0m\n\u001b[0m\u001b[1;32m     36\u001b[0m \u001b[0;34m\u001b[0m\u001b[0m\n\u001b[1;32m     37\u001b[0m \u001b[0;34m\u001b[0m\u001b[0m\n",
      "\u001b[0;31mIndexError\u001b[0m: list index out of range"
     ]
    }
   ],
   "source": [
    "if __name__ == '__main__':\n",
    "    from pprint import pprint\n",
    "    user_input = '''I want to discuss about my life. I rely my ability.'''\n",
    "    user_input = 'can you speak something or do anything to response me?'\n",
    "    pprint(main_process(user_input))"
   ]
  },
  {
   "cell_type": "code",
   "execution_count": null,
   "metadata": {},
   "outputs": [
    {
     "name": "stderr",
     "output_type": "stream",
     "text": [
      " * Running on http://0.0.0.0:1314/ (Press CTRL+C to quit)\n",
      "140.114.86.43 - - [12/Jun/2018 17:26:07] \"\u001b[37mOPTIONS /correct HTTP/1.1\u001b[0m\" 200 -\n",
      "140.114.86.43 - - [12/Jun/2018 17:26:07] \"\u001b[37mPOST /correct HTTP/1.1\u001b[0m\" 200 -\n"
     ]
    },
    {
     "name": "stdout",
     "output_type": "stream",
     "text": [
      "d\n",
      "I want to discuss about my life. I relied my ability. I am able to do something. I love to apple. I love to do something. I discussed about my life.\n",
      "I am able to do to eat .\n",
      "want ROOT V to-v 1.0\n",
      "discuss xcomp V about O 0\n",
      "['V O', 'V with O', 'V in O', 'V at O', 'V for O']\n",
      "['to discuss life', 'to discuss stereotypes', 'to discuss project', 'to discuss mission', 'to discuss testimony']\n",
      "relied ROOT V O 0.00807899461400359\n",
      "['V on O', 'V upon O', 'V', 'V on cl']\n",
      "['i relied on people', 'i relied on systems', 'i relied on sense', 'i relied on wife', 'i relied on that']\n",
      "am ROOT V 1.0\n",
      "do xcomp V O 1.0\n",
      "love ROOT V to O 0.0020557097337855893\n",
      "['V O', 'V O to O', 'V to-v', 'V cl', 'V']\n",
      "['i love blender', 'i love designers', 'i love buble', 'i love recognition', 'i love redskins']\n",
      "love ROOT V to-v 0.1444821324562305\n",
      "['V O']\n",
      "['i love blender', 'i love designers', 'i love buble', 'i love recognition', 'i love redskins']\n",
      "do xcomp V O 1.0\n",
      "discussed ROOT V about O 0.0007380073800738007\n",
      "['V O', 'V with O', 'V in O', 'V at O', 'V for O']\n",
      "['i discussed history', 'i discussed heuristic', 'i discussed bombing', 'i discussed question', 'i discussed usefulness']\n",
      "am ROOT V 1.0\n",
      "do xcomp V to-v 0.006248693349439011\n",
      "['V O', 'V', 'V wh-cl', 'V cl', 'V with O']\n"
     ]
    },
    {
     "name": "stderr",
     "output_type": "stream",
     "text": [
      "140.114.86.43 - - [12/Jun/2018 17:26:09] \"\u001b[37mPOST /correct HTTP/1.1\u001b[0m\" 200 -\n"
     ]
    },
    {
     "name": "stdout",
     "output_type": "stream",
     "text": [
      "['to do jazz', 'to do arithmetic', 'to do checking', 'to do alteration', 'to do sweeping']\n",
      "eat xcomp V 1.0\n"
     ]
    },
    {
     "name": "stderr",
     "output_type": "stream",
     "text": [
      "140.114.86.43 - - [12/Jun/2018 17:52:10] \"\u001b[37mOPTIONS /correct HTTP/1.1\u001b[0m\" 200 -\n",
      "140.114.86.43 - - [12/Jun/2018 17:52:10] \"\u001b[37mPOST /correct HTTP/1.1\u001b[0m\" 200 -\n"
     ]
    },
    {
     "name": "stdout",
     "output_type": "stream",
     "text": [
      "Sometimes I clean about my desk because I do n't like a dirty desk .\n",
      "I like my job , because I contacted with people from several countries .\n",
      "I learn about it .\n",
      "clean ROOT V about O 0\n",
      "['V O', 'V in O', 'V with O', 'V for O', 'V from O']\n",
      "['i clean paragraphs', 'i clean place', 'i clean kitchen', 'you clean desk', 'i clean house']\n",
      "do aux V 1.0\n",
      "like advcl V O 1.0\n",
      "like ROOT V O 0.9445143797811562\n",
      "contacted advcl V with O 0.00904977375565611\n",
      "['V O', 'V O at O', 'V', 'V O for O', 'V O about O']\n",
      "['i contacted her', 'i contacted agency', 'i contacted him', 'i contacted them', 'i contacted police']\n",
      "learn ROOT V about O 0.24664932986597318\n"
     ]
    }
   ],
   "source": [
    "#!/usr/bin/env python\n",
    "# -*- coding: utf-8 -*-\n",
    "\n",
    "from flask import Flask, request, jsonify\n",
    "from flask_cors import CORS, cross_origin\n",
    "\n",
    "app = Flask(__name__)\n",
    "\n",
    "app.config['CORS_HEADERS'] = 'Content-Type'\n",
    "CORS(app)\n",
    "\n",
    "@app.route(\"/\")\n",
    "def hello():\n",
    "    return 'Hello World'\n",
    "\n",
    "# post /correct data: {content :}\n",
    "@app.route('/correct' , methods=['POST'])\n",
    "def start_correct():\n",
    "    request_data = request.get_json()\n",
    "    if not request_data: return jsonify({'edit': 'Should not be empty'})\n",
    "    \n",
    "    content = request_data['content']\n",
    "    print(content)\n",
    "    \n",
    "    edits, suggestions = main_process(content)\n",
    "    \n",
    "    return jsonify({\n",
    "        'edits': edits,\n",
    "        'suggestions': suggestions\n",
    "    })\n",
    "\n",
    "if __name__ == \"__main__\":\n",
    "    app.run(host='0.0.0.0', port=1314)"
   ]
  },
  {
   "cell_type": "code",
   "execution_count": 29,
   "metadata": {},
   "outputs": [
    {
     "data": {
      "text/plain": [
       "[('V on O', 3342),\n",
       " ('V upon O', 138),\n",
       " ('V on cl', 91),\n",
       " ('V', 37),\n",
       " ('V O', 27),\n",
       " ('V on wh-cl', 26),\n",
       " ('V on v-ing', 12),\n",
       " ('V to O', 11),\n",
       " ('V for O', 10),\n",
       " ('V on', 9),\n",
       " ('V cl', 8),\n",
       " ('V O on O', 6),\n",
       " ('V in O', 5),\n",
       " ('V with O', 2),\n",
       " ('V upon', 2),\n",
       " ('V on v', 2),\n",
       " ('V at O', 2),\n",
       " ('V upon cl', 2),\n",
       " ('V to-v', 1),\n",
       " ('V in cl', 1),\n",
       " ('V by O', 1),\n",
       " ('V v', 1),\n",
       " ('V upon v', 1),\n",
       " ('V upon wh-cl', 1),\n",
       " ('V upon v-ing', 1),\n",
       " ('V on to-v', 1),\n",
       " ('V in on', 1),\n",
       " ('V on v-ed', 1),\n",
       " ('V of O', 1),\n",
       " ('V as O', 1)]"
      ]
     },
     "execution_count": 29,
     "metadata": {},
     "output_type": "execute_result"
    }
   ],
   "source": [
    "sort_dict(norm_patterns['rely']['ROOT'])"
   ]
  }
 ],
 "metadata": {
  "kernelspec": {
   "display_name": "Python 3",
   "language": "python",
   "name": "python3"
  },
  "language_info": {
   "codemirror_mode": {
    "name": "ipython",
    "version": 3
   },
   "file_extension": ".py",
   "mimetype": "text/x-python",
   "name": "python",
   "nbconvert_exporter": "python",
   "pygments_lexer": "ipython3",
   "version": "3.5.2"
  }
 },
 "nbformat": 4,
 "nbformat_minor": 2
}
