{
 "cells": [
  {
   "cell_type": "code",
   "execution_count": 1,
   "metadata": {},
   "outputs": [],
   "source": [
    "from collections import defaultdict, Counter\n",
    "from operator import itemgetter\n",
    "from utils.syntax import *\n",
    "import numpy as np\n",
    "import spacy\n",
    "import json"
   ]
  },
  {
   "cell_type": "code",
   "execution_count": 2,
   "metadata": {},
   "outputs": [],
   "source": [
    "nlp = spacy.load('en_core_web_lg') # ('en')"
   ]
  },
  {
   "cell_type": "code",
   "execution_count": 3,
   "metadata": {},
   "outputs": [],
   "source": [
    "# Read patterns/sents json file\n",
    "with open('bnc.json', 'r', encoding='utf8') as fs:\n",
    "    BNC = json.load(fs)\n",
    "    patterns, sents, ngrams = BNC['patterns'], BNC['sents'], BNC['ngrams']"
   ]
  },
  {
   "cell_type": "code",
   "execution_count": 35,
   "metadata": {},
   "outputs": [],
   "source": [
    "def get_high_freq(counts):\n",
    "    values = list(counts.values())\n",
    "    total, avg, std = np.sum(values), np.mean(values), np.std(values)\n",
    "    # print(\"Total: {}, Avg: {}, Std: {}\".format(total, avg, std))\n",
    "\n",
    "    return dict([(ptn, count) for ptn, count in counts.items() if count > avg + std])\n",
    "\n",
    "def truncate_k(counts, k=10):\n",
    "    return dict([(ptn, count) for ptn, count in counts.items() if count >= k])\n",
    "\n",
    "def sort_dict(counts):\n",
    "    return sorted(counts.items(), key=itemgetter(1), reverse=True)"
   ]
  },
  {
   "cell_type": "code",
   "execution_count": 36,
   "metadata": {},
   "outputs": [],
   "source": [
    "def predict_ratio(ptn, patterns):\n",
    "    if ptn not in patterns: \n",
    "        return 0\n",
    "    if ptn == max(patterns, key=patterns.get): # 保證對\n",
    "        return 1\n",
    "    return patterns[ptn] / sum(patterns.values())\n",
    "\n",
    "\n",
    "def categorize(ratio):\n",
    "    if ratio > 0.5:\n",
    "        return 'right', '{{+{}+}}'\n",
    "    elif ratio < 0.1:\n",
    "        return 'wrong', '[-{}-]'\n",
    "    else:\n",
    "        return 'unsure', '\\\\*{}*\\\\'\n",
    "    \n",
    "    \n",
    "def correct(content):\n",
    "    edits, suggestions = [], []\n",
    "    for tk in nlp(content):\n",
    "        if tk.tag_ in VERBS:\n",
    "            ptn, ngram = dep_to_pattern(tk)\n",
    "    \n",
    "            high_ptns = get_high_freq(patterns[tk.lemma_][tk.dep_])\n",
    "            \n",
    "            ratio = predict_ratio(ptn, high_ptns)\n",
    "            \n",
    "            category, template = categorize(ratio)\n",
    "            \n",
    "            if category in ['wrong', 'unsure']:\n",
    "                top_ptn = max(high_ptns, key=high_ptns.get)\n",
    "                ngram = ngrams[tk.lemma_][tk.dep_][top_ptn][0]\n",
    "                suggestions.append({\n",
    "                    'category': category,\n",
    "                    'tk': tk.text,\n",
    "                    'bef': ptn,\n",
    "                    'aft': top_ptn,\n",
    "                    'ngram': ngram\n",
    "                })\n",
    "                \n",
    "            edits.append(template.format(tk.text))\n",
    "        else:\n",
    "            edits.append(tk.text)\n",
    "   \n",
    "    return ' '.join(edits), suggestions"
   ]
  },
  {
   "cell_type": "code",
   "execution_count": 37,
   "metadata": {},
   "outputs": [
    {
     "name": "stdout",
     "output_type": "stream",
     "text": [
      "('I {+want+} to [-discuss-] about my life . I \\\\*rely*\\\\ my ability .', [{'ngram': 'to discuss difficulties', 'tk': 'discuss', 'bef': 'to V about O', 'category': 'wrong', 'aft': 'to V O'}, {'ngram': 'organisations rely on volunteers', 'tk': 'rely', 'bef': 'S V O', 'category': 'unsure', 'aft': 'S V on O'}])\n"
     ]
    }
   ],
   "source": [
    "if __name__ == '__main__':\n",
    "    user_input = '''I want to discuss about my life. I rely my ability.'''\n",
    "    print(correct(user_input))"
   ]
  },
  {
   "cell_type": "code",
   "execution_count": null,
   "metadata": {},
   "outputs": [
    {
     "name": "stderr",
     "output_type": "stream",
     "text": [
      " * Running on http://0.0.0.0:1314/ (Press CTRL+C to quit)\n",
      "140.114.77.132 - - [07/Jun/2018 17:54:36] \"\u001b[37mOPTIONS /correct HTTP/1.1\u001b[0m\" 200 -\n",
      "140.114.77.132 - - [07/Jun/2018 17:54:36] \"\u001b[37mPOST /correct HTTP/1.1\u001b[0m\" 200 -\n"
     ]
    },
    {
     "name": "stdout",
     "output_type": "stream",
     "text": [
      "I want to discuss about my life. I rely my ability.\n"
     ]
    }
   ],
   "source": [
    "#!/usr/bin/env python\n",
    "# -*- coding: utf-8 -*-\n",
    "\n",
    "from flask import Flask, request, jsonify\n",
    "from flask_cors import CORS, cross_origin\n",
    "\n",
    "app = Flask(__name__)\n",
    "CORS(app)\n",
    "app.config['CORS_HEADERS'] = 'Content-Type'\n",
    "\n",
    "\n",
    "# post /correct data: {content :}\n",
    "@app.route('/correct' , methods=['POST'])\n",
    "def start_correct():\n",
    "    request_data = request.get_json()\n",
    "    \n",
    "    if not request_data: return jsonify({'edit': 'Should not be empty'})\n",
    "    content = request_data['content']\n",
    "    print(content)\n",
    "    \n",
    "    edit, suggestions = correct(content)\n",
    "    \n",
    "    return jsonify({\n",
    "        'edit': edit,\n",
    "        'suggestions': suggestions\n",
    "    })\n",
    "\n",
    "if __name__ == \"__main__\":\n",
    "    app.run(host='0.0.0.0', port=1314)"
   ]
  },
  {
   "cell_type": "code",
   "execution_count": null,
   "metadata": {},
   "outputs": [],
   "source": []
  }
 ],
 "metadata": {
  "kernelspec": {
   "display_name": "Python 3",
   "language": "python",
   "name": "python3"
  },
  "language_info": {
   "codemirror_mode": {
    "name": "ipython",
    "version": 3
   },
   "file_extension": ".py",
   "mimetype": "text/x-python",
   "name": "python",
   "nbconvert_exporter": "python",
   "pygments_lexer": "ipython3",
   "version": "3.5.2"
  }
 },
 "nbformat": 4,
 "nbformat_minor": 2
}
